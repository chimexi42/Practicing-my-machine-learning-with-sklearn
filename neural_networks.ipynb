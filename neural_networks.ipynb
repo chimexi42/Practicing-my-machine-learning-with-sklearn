{
 "cells": [
  {
   "cell_type": "code",
   "execution_count": 293,
   "metadata": {},
   "outputs": [],
   "source": [
    "import tensorflow as tf \n",
    "import numpy as np\n",
    "from tensorflow import keras \n",
    "import matplotlib.pyplot as plt \n",
    "import pandas as pd  \n"
   ]
  },
  {
   "cell_type": "code",
   "execution_count": 294,
   "metadata": {},
   "outputs": [],
   "source": [
    "scaler_tensor = tf.constant(10)"
   ]
  },
  {
   "cell_type": "code",
   "execution_count": 295,
   "metadata": {},
   "outputs": [
    {
     "data": {
      "text/plain": [
       "<tf.Tensor: shape=(), dtype=int32, numpy=10>"
      ]
     },
     "execution_count": 295,
     "metadata": {},
     "output_type": "execute_result"
    }
   ],
   "source": [
    "scaler_tensor"
   ]
  },
  {
   "cell_type": "code",
   "execution_count": 296,
   "metadata": {},
   "outputs": [],
   "source": [
    "vect_tensor =tf.constant([0,1,2,3,4,5,6,7,8])"
   ]
  },
  {
   "cell_type": "code",
   "execution_count": 297,
   "metadata": {},
   "outputs": [
    {
     "data": {
      "text/plain": [
       "<tf.Tensor: shape=(9,), dtype=int32, numpy=array([0, 1, 2, 3, 4, 5, 6, 7, 8])>"
      ]
     },
     "execution_count": 297,
     "metadata": {},
     "output_type": "execute_result"
    }
   ],
   "source": [
    "vect_tensor"
   ]
  },
  {
   "cell_type": "code",
   "execution_count": 298,
   "metadata": {},
   "outputs": [
    {
     "data": {
      "text/plain": [
       "<tf.Tensor: shape=(3, 2), dtype=int32, numpy=\n",
       "array([[ 2,  4],\n",
       "       [ 6,  8],\n",
       "       [10, 12]])>"
      ]
     },
     "execution_count": 298,
     "metadata": {},
     "output_type": "execute_result"
    }
   ],
   "source": [
    "mat_tensor = tf.constant([[2,4], [6,8],[10,12]])\n",
    "mat_tensor"
   ]
  },
  {
   "cell_type": "code",
   "execution_count": 299,
   "metadata": {},
   "outputs": [
    {
     "data": {
      "text/plain": [
       "2"
      ]
     },
     "execution_count": 299,
     "metadata": {},
     "output_type": "execute_result"
    }
   ],
   "source": [
    "scaler_tensor.ndim\n",
    "vect_tensor.ndim \n",
    "mat_tensor.ndim"
   ]
  },
  {
   "cell_type": "code",
   "execution_count": 300,
   "metadata": {},
   "outputs": [
    {
     "data": {
      "text/plain": [
       "3"
      ]
     },
     "execution_count": 300,
     "metadata": {},
     "output_type": "execute_result"
    }
   ],
   "source": [
    "tensor_3d = tf.constant([\n",
    "                            [[1,2,3,4,5],\n",
    "                            [6,7,8,9,8]],\n",
    "                            [[1,3,5,7,9],\n",
    "                            [2,4,6,8,1]], \n",
    "                            [[1,2,3,4,5],\n",
    "                            [3,5,6,7,5]], ])\n",
    "\n",
    "tensor_3d.ndim                        "
   ]
  },
  {
   "cell_type": "code",
   "execution_count": 301,
   "metadata": {},
   "outputs": [
    {
     "data": {
      "text/plain": [
       "3"
      ]
     },
     "execution_count": 301,
     "metadata": {},
     "output_type": "execute_result"
    }
   ],
   "source": [
    "n_aray = tensor_3d.numpy()\n",
    "n_aray.shape\n",
    "n_aray.ndim"
   ]
  },
  {
   "cell_type": "code",
   "execution_count": 302,
   "metadata": {},
   "outputs": [
    {
     "data": {
      "text/plain": [
       "numpy.ndarray"
      ]
     },
     "execution_count": 302,
     "metadata": {},
     "output_type": "execute_result"
    }
   ],
   "source": [
    "type(n_aray)"
   ]
  },
  {
   "cell_type": "code",
   "execution_count": 303,
   "metadata": {},
   "outputs": [
    {
     "data": {
      "text/plain": [
       "tensorflow.python.framework.ops.EagerTensor"
      ]
     },
     "execution_count": 303,
     "metadata": {},
     "output_type": "execute_result"
    }
   ],
   "source": [
    "type(tensor_3d)"
   ]
  },
  {
   "cell_type": "code",
   "execution_count": 304,
   "metadata": {},
   "outputs": [
    {
     "data": {
      "text/plain": [
       "array([[[1, 2, 3, 4, 5],\n",
       "        [6, 7, 8, 9, 8]],\n",
       "\n",
       "       [[1, 3, 5, 7, 9],\n",
       "        [2, 4, 6, 8, 1]],\n",
       "\n",
       "       [[1, 2, 3, 4, 5],\n",
       "        [3, 5, 6, 7, 5]]])"
      ]
     },
     "execution_count": 304,
     "metadata": {},
     "output_type": "execute_result"
    }
   ],
   "source": [
    "np.array(tensor_3d)"
   ]
  },
  {
   "cell_type": "code",
   "execution_count": 305,
   "metadata": {},
   "outputs": [
    {
     "name": "stdout",
     "output_type": "stream",
     "text": [
      "<tf.Variable 'Variable:0' shape=(3, 2, 5) dtype=int32, numpy=\n",
      "array([[[1, 2, 3, 4, 5],\n",
      "        [6, 7, 8, 9, 8]],\n",
      "\n",
      "       [[1, 3, 5, 7, 9],\n",
      "        [2, 4, 6, 8, 1]],\n",
      "\n",
      "       [[1, 2, 3, 5, 4],\n",
      "        [3, 4, 5, 6, 7]]])>\n"
     ]
    }
   ],
   "source": [
    "var_tensor = tf.Variable([\n",
    "                         [[1,2,3,4,5],\n",
    "                         [6,7,8,9,8]],\n",
    "                         [[1,3,5,7,9],\n",
    "                         [2,4,6,8,1]],\n",
    "                         [[1,2,3,5,4],\n",
    "                         [3,4,5,6,7]], ])\n",
    "\n",
    "print(var_tensor)"
   ]
  },
  {
   "cell_type": "code",
   "execution_count": 306,
   "metadata": {},
   "outputs": [
    {
     "data": {
      "text/plain": [
       "array([[[1, 2, 3, 4, 5],\n",
       "        [6, 7, 8, 9, 8]],\n",
       "\n",
       "       [[1, 3, 5, 7, 9],\n",
       "        [2, 4, 6, 8, 1]],\n",
       "\n",
       "       [[1, 2, 3, 5, 4],\n",
       "        [3, 4, 5, 6, 7]]])"
      ]
     },
     "execution_count": 306,
     "metadata": {},
     "output_type": "execute_result"
    }
   ],
   "source": [
    "var_tensor.numpy()"
   ]
  },
  {
   "cell_type": "code",
   "execution_count": 307,
   "metadata": {},
   "outputs": [
    {
     "data": {
      "text/plain": [
       "array([[[1, 2, 3, 4, 5],\n",
       "        [6, 7, 8, 9, 8]],\n",
       "\n",
       "       [[1, 3, 5, 7, 9],\n",
       "        [2, 4, 6, 8, 1]],\n",
       "\n",
       "       [[1, 2, 3, 4, 5],\n",
       "        [3, 5, 6, 7, 5]]])"
      ]
     },
     "execution_count": 307,
     "metadata": {},
     "output_type": "execute_result"
    }
   ],
   "source": [
    "tensor_3d.numpy()"
   ]
  },
  {
   "cell_type": "code",
   "execution_count": 308,
   "metadata": {},
   "outputs": [
    {
     "data": {
      "text/plain": [
       "<tf.Tensor: shape=(4, 4), dtype=float32, numpy=\n",
       "array([[1., 1., 1., 1.],\n",
       "       [1., 1., 1., 1.],\n",
       "       [1., 1., 1., 1.],\n",
       "       [1., 1., 1., 1.]], dtype=float32)>"
      ]
     },
     "execution_count": 308,
     "metadata": {},
     "output_type": "execute_result"
    }
   ],
   "source": [
    "ones_tensor = tf.ones([4,4])\n",
    "ones_tensor"
   ]
  },
  {
   "cell_type": "code",
   "execution_count": 309,
   "metadata": {},
   "outputs": [
    {
     "data": {
      "text/plain": [
       "<tf.Tensor: shape=(1, 10), dtype=float32, numpy=array([[1., 1., 1., 1., 1., 1., 1., 1., 1., 1.]], dtype=float32)>"
      ]
     },
     "execution_count": 309,
     "metadata": {},
     "output_type": "execute_result"
    }
   ],
   "source": [
    "ones_tensor_1 = tf.ones([1,10])\n",
    "ones_tensor_1"
   ]
  },
  {
   "cell_type": "code",
   "execution_count": 310,
   "metadata": {},
   "outputs": [
    {
     "data": {
      "text/plain": [
       "<tf.Tensor: shape=(3, 3), dtype=float32, numpy=\n",
       "array([[0., 0., 0.],\n",
       "       [0., 0., 0.],\n",
       "       [0., 0., 0.]], dtype=float32)>"
      ]
     },
     "execution_count": 310,
     "metadata": {},
     "output_type": "execute_result"
    }
   ],
   "source": [
    "tensor_0 = tf.zeros([3,3])\n",
    "tensor_0"
   ]
  },
  {
   "cell_type": "code",
   "execution_count": 311,
   "metadata": {},
   "outputs": [
    {
     "data": {
      "text/plain": [
       "<tf.Tensor: shape=(3, 3), dtype=float32, numpy=\n",
       "array([[-0.43640924, -1.9633987 , -0.06452483],\n",
       "       [-1.056841  ,  1.0019137 ,  0.6735137 ],\n",
       "       [ 0.06987712, -1.4077919 ,  1.0278524 ]], dtype=float32)>"
      ]
     },
     "execution_count": 311,
     "metadata": {},
     "output_type": "execute_result"
    }
   ],
   "source": [
    "rand_tensor =tf.random.Generator.from_seed(3)\n",
    "rand_tensor= rand_tensor.normal(shape =[3,3])\n",
    "rand_tensor "
   ]
  },
  {
   "cell_type": "code",
   "execution_count": 312,
   "metadata": {},
   "outputs": [
    {
     "data": {
      "text/plain": [
       "<tf.Tensor: shape=(3, 3), dtype=float32, numpy=\n",
       "array([[-0.43640924, -1.9633987 , -0.06452483],\n",
       "       [-1.056841  ,  1.0019137 ,  0.6735137 ],\n",
       "       [ 0.06987712, -1.4077919 ,  1.0278524 ]], dtype=float32)>"
      ]
     },
     "execution_count": 312,
     "metadata": {},
     "output_type": "execute_result"
    }
   ],
   "source": [
    "rand_tensor =tf.random.Generator.from_seed(3)\n",
    "rand_tensor= rand_tensor.normal([3,3])\n",
    "rand_tensor "
   ]
  },
  {
   "cell_type": "code",
   "execution_count": 313,
   "metadata": {},
   "outputs": [
    {
     "name": "stdout",
     "output_type": "stream",
     "text": [
      "tf.Tensor(\n",
      "[[1 3]\n",
      " [3 4]\n",
      " [4 5]], shape=(3, 2), dtype=int32)\n"
     ]
    }
   ],
   "source": [
    "example_tensor = tf.constant([[1,3], \n",
    "                              [3,4], \n",
    "                              [4,5]])\n",
    "\n",
    "print(example_tensor)"
   ]
  },
  {
   "cell_type": "code",
   "execution_count": 314,
   "metadata": {},
   "outputs": [],
   "source": [
    "def shuffle_tensor(tensor):\n",
    "    tensor_shuffled = tf.random.shuffle(tensor) #\n",
    "    return tensor_shuffled"
   ]
  },
  {
   "cell_type": "code",
   "execution_count": 315,
   "metadata": {},
   "outputs": [
    {
     "data": {
      "text/plain": [
       "<tf.Tensor: shape=(3, 2), dtype=int32, numpy=\n",
       "array([[1, 3],\n",
       "       [4, 5],\n",
       "       [3, 4]])>"
      ]
     },
     "execution_count": 315,
     "metadata": {},
     "output_type": "execute_result"
    }
   ],
   "source": [
    "shuffle_tensor(example_tensor)"
   ]
  },
  {
   "cell_type": "code",
   "execution_count": null,
   "metadata": {},
   "outputs": [],
   "source": []
  },
  {
   "cell_type": "code",
   "execution_count": 316,
   "metadata": {},
   "outputs": [
    {
     "data": {
      "text/plain": [
       "<tf.Tensor: shape=(3, 2), dtype=int32, numpy=\n",
       "array([[3, 4],\n",
       "       [4, 5],\n",
       "       [1, 3]])>"
      ]
     },
     "execution_count": 316,
     "metadata": {},
     "output_type": "execute_result"
    }
   ],
   "source": [
    "tf.random.set_seed(42)\n",
    "shuffle_tensor(example_tensor)"
   ]
  },
  {
   "cell_type": "code",
   "execution_count": 317,
   "metadata": {},
   "outputs": [
    {
     "name": "stdout",
     "output_type": "stream",
     "text": [
      "The fisrt value:  1\n",
      "The second value:  2\n",
      "The 3rd to 5th value:  [3 4 5 6]\n",
      "The 3rd to last value:  [4 5 6 7]\n",
      "The last value:  7\n",
      "All the values:  [1 2 3 4 5 6 7]\n"
     ]
    }
   ],
   "source": [
    "tensor_1d = tf.constant([1,2,3,4,5,6,7])\n",
    "\n",
    "print('The fisrt value: ',tensor_1d[0].numpy())\n",
    "print('The second value: ',tensor_1d[1].numpy())\n",
    "print('The 3rd to 5th value: ', tensor_1d[2:6].numpy())\n",
    "print('The 3rd to last value: ', tensor_1d[3:].numpy())\n",
    "print('The last value: ', tensor_1d[-1].numpy())\n",
    "print('All the values: ', tensor_1d[:].numpy())\n",
    "\n",
    "\n"
   ]
  },
  {
   "cell_type": "code",
   "execution_count": 318,
   "metadata": {},
   "outputs": [],
   "source": [
    "tensor_2d = tf.constant([[1,3],\n",
    "                          [3,4],\n",
    "                          [4,5]])"
   ]
  },
  {
   "cell_type": "code",
   "execution_count": 319,
   "metadata": {},
   "outputs": [
    {
     "name": "stdout",
     "output_type": "stream",
     "text": [
      "The first row: [1 3]\n",
      "The second: [3 4 5]\n",
      "The last row: [4 5]\n"
     ]
    }
   ],
   "source": [
    "print('The first row:', tensor_2d[0,:].numpy())\n",
    "print('The second:', tensor_2d[ :,1].numpy())\n",
    "print('The last row:', tensor_2d[-1,:].numpy())\n",
    "\n"
   ]
  },
  {
   "cell_type": "code",
   "execution_count": 320,
   "metadata": {},
   "outputs": [],
   "source": [
    "tensor_1 = tf.constant([1,2,3])\n",
    "tensor_2 = tf.constant([4,5,6])"
   ]
  },
  {
   "cell_type": "code",
   "execution_count": 321,
   "metadata": {},
   "outputs": [
    {
     "name": "stdout",
     "output_type": "stream",
     "text": [
      "tf.Tensor([5 6 7], shape=(3,), dtype=int32)\n"
     ]
    }
   ],
   "source": [
    "print(tensor_1 + 4)"
   ]
  },
  {
   "cell_type": "code",
   "execution_count": 322,
   "metadata": {},
   "outputs": [
    {
     "data": {
      "text/plain": [
       "<tf.Tensor: shape=(3,), dtype=int32, numpy=array([5, 7, 9])>"
      ]
     },
     "execution_count": 322,
     "metadata": {},
     "output_type": "execute_result"
    }
   ],
   "source": [
    "tf.add(tensor_1, tensor_2)"
   ]
  },
  {
   "cell_type": "code",
   "execution_count": 323,
   "metadata": {},
   "outputs": [
    {
     "data": {
      "text/plain": [
       "array([5, 7, 9])"
      ]
     },
     "execution_count": 323,
     "metadata": {},
     "output_type": "execute_result"
    }
   ],
   "source": [
    "tf.add(tensor_1, tensor_2).numpy()"
   ]
  },
  {
   "cell_type": "code",
   "execution_count": 324,
   "metadata": {},
   "outputs": [
    {
     "data": {
      "text/plain": [
       "<tf.Tensor: shape=(3, 2), dtype=int32, numpy=\n",
       "array([[1, 3],\n",
       "       [3, 4],\n",
       "       [4, 5]])>"
      ]
     },
     "execution_count": 324,
     "metadata": {},
     "output_type": "execute_result"
    }
   ],
   "source": [
    "example_tensor\n"
   ]
  },
  {
   "cell_type": "code",
   "execution_count": 325,
   "metadata": {},
   "outputs": [
    {
     "data": {
      "text/plain": [
       "<tf.Tensor: shape=(2, 3), dtype=int32, numpy=\n",
       "array([[1, 3, 3],\n",
       "       [4, 4, 5]])>"
      ]
     },
     "execution_count": 325,
     "metadata": {},
     "output_type": "execute_result"
    }
   ],
   "source": [
    "tensor_reshaped = tf.reshape(example_tensor, [2,3])\n",
    "tensor_reshaped"
   ]
  },
  {
   "cell_type": "code",
   "execution_count": 326,
   "metadata": {},
   "outputs": [
    {
     "data": {
      "text/plain": [
       "<tf.Tensor: shape=(6, 1), dtype=int32, numpy=\n",
       "array([[1],\n",
       "       [3],\n",
       "       [3],\n",
       "       [4],\n",
       "       [4],\n",
       "       [5]])>"
      ]
     },
     "execution_count": 326,
     "metadata": {},
     "output_type": "execute_result"
    }
   ],
   "source": [
    "tf.reshape(example_tensor, [6,1])"
   ]
  },
  {
   "cell_type": "code",
   "execution_count": 327,
   "metadata": {},
   "outputs": [
    {
     "data": {
      "text/plain": [
       "[3, 2]"
      ]
     },
     "execution_count": 327,
     "metadata": {},
     "output_type": "execute_result"
    }
   ],
   "source": [
    "example_tensor.shape.as_list()"
   ]
  },
  {
   "cell_type": "code",
   "execution_count": 328,
   "metadata": {},
   "outputs": [
    {
     "data": {
      "text/plain": [
       "TensorShape([3, 2])"
      ]
     },
     "execution_count": 328,
     "metadata": {},
     "output_type": "execute_result"
    }
   ],
   "source": [
    "example_tensor.shape"
   ]
  },
  {
   "cell_type": "code",
   "execution_count": 329,
   "metadata": {},
   "outputs": [],
   "source": [
    "x = tf.constant([-2,-1,0.0,1.0,2.0,3.0,4.0,5.0,6.0,7.0,8.0,10,12])\n",
    "\n",
    "y = tf.constant([-3.0,-1.0,1.0,3.0,5.0,7.0,9.0,11.0,13.0,15.0,17.0,21.0,25.0])\n",
    "\n"
   ]
  },
  {
   "cell_type": "code",
   "execution_count": 330,
   "metadata": {},
   "outputs": [
    {
     "data": {
      "text/plain": [
       "Text(0, 0.5, 'Y')"
      ]
     },
     "execution_count": 330,
     "metadata": {},
     "output_type": "execute_result"
    },
    {
     "data": {
      "image/png": "[encoded data removed]",
      "text/plain": [
       "<Figure size 432x288 with 1 Axes>"
      ]
     },
     "metadata": {
      "needs_background": "light"
     },
     "output_type": "display_data"
    }
   ],
   "source": [
    "plt.plot(x,y)\n",
    "plt.scatter(x,y)\n",
    "plt.annotate('y = 2X +1', xy=(3,4))\n",
    "# plt.text(10,20, 'y= 2x+1')\n",
    "plt.xlabel('X')\n",
    "plt.ylabel('Y')"
   ]
  },
  {
   "cell_type": "code",
   "execution_count": 331,
   "metadata": {},
   "outputs": [
    {
     "name": "stdout",
     "output_type": "stream",
     "text": [
      "Model: \"sequential_8\"\n",
      "_________________________________________________________________\n",
      " Layer (type)                Output Shape              Param #   \n",
      "=================================================================\n",
      " dense_16 (Dense)            (None, 1)                 2         \n",
      "                                                                 \n",
      "=================================================================\n",
      "Total params: 2\n",
      "Trainable params: 2\n",
      "Non-trainable params: 0\n",
      "_________________________________________________________________\n"
     ]
    }
   ],
   "source": [
    "model = tf.keras.Sequential([\n",
    "    keras.layers.Dense(units=1, input_shape=[1])\n",
    "])\n",
    "model.summary()"
   ]
  },
  {
   "cell_type": "code",
   "execution_count": 332,
   "metadata": {},
   "outputs": [],
   "source": [
    "model.compile(optimizer ='sgd', \n",
    "            loss ='mean_squared_error', \n",
    "            metrics = ['mse'])"
   ]
  },
  {
   "cell_type": "code",
   "execution_count": 333,
   "metadata": {},
   "outputs": [
    {
     "name": "stdout",
     "output_type": "stream",
     "text": [
      "Epoch 1/30\n",
      "1/1 [==============================] - 1s 721ms/step - loss: 75.8406 - mse: 75.8406\n",
      "Epoch 2/30\n",
      "1/1 [==============================] - 0s 4ms/step - loss: 6.7896 - mse: 6.7896\n",
      "Epoch 3/30\n",
      "1/1 [==============================] - 0s 7ms/step - loss: 0.8698 - mse: 0.8698\n",
      "Epoch 4/30\n",
      "1/1 [==============================] - 0s 5ms/step - loss: 0.3573 - mse: 0.3573\n",
      "Epoch 5/30\n",
      "1/1 [==============================] - 0s 6ms/step - loss: 0.3080 - mse: 0.3080\n",
      "Epoch 6/30\n",
      "1/1 [==============================] - 0s 6ms/step - loss: 0.2985 - mse: 0.2985\n",
      "Epoch 7/30\n",
      "1/1 [==============================] - 0s 5ms/step - loss: 0.2925 - mse: 0.2925\n",
      "Epoch 8/30\n",
      "1/1 [==============================] - 0s 7ms/step - loss: 0.2868 - mse: 0.2868\n",
      "Epoch 9/30\n",
      "1/1 [==============================] - 0s 5ms/step - loss: 0.2814 - mse: 0.2814\n",
      "Epoch 10/30\n",
      "1/1 [==============================] - 0s 4ms/step - loss: 0.2760 - mse: 0.2760\n",
      "Epoch 11/30\n",
      "1/1 [==============================] - 0s 7ms/step - loss: 0.2707 - mse: 0.2707\n",
      "Epoch 12/30\n",
      "1/1 [==============================] - 0s 6ms/step - loss: 0.2656 - mse: 0.2656\n",
      "Epoch 13/30\n",
      "1/1 [==============================] - 0s 6ms/step - loss: 0.2605 - mse: 0.2605\n",
      "Epoch 14/30\n",
      "1/1 [==============================] - 0s 5ms/step - loss: 0.2555 - mse: 0.2555\n",
      "Epoch 15/30\n",
      "1/1 [==============================] - 0s 6ms/step - loss: 0.2507 - mse: 0.2507\n",
      "Epoch 16/30\n",
      "1/1 [==============================] - 0s 7ms/step - loss: 0.2459 - mse: 0.2459\n",
      "Epoch 17/30\n",
      "1/1 [==============================] - 0s 6ms/step - loss: 0.2412 - mse: 0.2412\n",
      "Epoch 18/30\n",
      "1/1 [==============================] - 0s 5ms/step - loss: 0.2366 - mse: 0.2366\n",
      "Epoch 19/30\n",
      "1/1 [==============================] - 0s 7ms/step - loss: 0.2321 - mse: 0.2321\n",
      "Epoch 20/30\n",
      "1/1 [==============================] - 0s 6ms/step - loss: 0.2277 - mse: 0.2277\n",
      "Epoch 21/30\n",
      "1/1 [==============================] - 0s 6ms/step - loss: 0.2233 - mse: 0.2233\n",
      "Epoch 22/30\n",
      "1/1 [==============================] - 0s 7ms/step - loss: 0.2191 - mse: 0.2191\n",
      "Epoch 23/30\n",
      "1/1 [==============================] - 0s 8ms/step - loss: 0.2149 - mse: 0.2149\n",
      "Epoch 24/30\n",
      "1/1 [==============================] - 0s 6ms/step - loss: 0.2108 - mse: 0.2108\n",
      "Epoch 25/30\n",
      "1/1 [==============================] - 0s 8ms/step - loss: 0.2068 - mse: 0.2068\n",
      "Epoch 26/30\n",
      "1/1 [==============================] - 0s 5ms/step - loss: 0.2028 - mse: 0.2028\n",
      "Epoch 27/30\n",
      "1/1 [==============================] - 0s 5ms/step - loss: 0.1989 - mse: 0.1989\n",
      "Epoch 28/30\n",
      "1/1 [==============================] - 0s 8ms/step - loss: 0.1951 - mse: 0.1951\n",
      "Epoch 29/30\n",
      "1/1 [==============================] - 0s 6ms/step - loss: 0.1914 - mse: 0.1914\n",
      "Epoch 30/30\n",
      "1/1 [==============================] - 0s 6ms/step - loss: 0.1878 - mse: 0.1878\n"
     ]
    }
   ],
   "source": [
    "history = model.fit(x,y, epochs = 30)"
   ]
  },
  {
   "cell_type": "code",
   "execution_count": 334,
   "metadata": {},
   "outputs": [
    {
     "data": {
      "text/html": [
       "<div>\n",
       "<style scoped>\n",
       "    .dataframe tbody tr th:only-of-type {\n",
       "        vertical-align: middle;\n",
       "    }\n",
       "\n",
       "    .dataframe tbody tr th {\n",
       "        vertical-align: top;\n",
       "    }\n",
       "\n",
       "    .dataframe thead th {\n",
       "        text-align: right;\n",
       "    }\n",
       "</style>\n",
       "<table border=\"1\" class=\"dataframe\">\n",
       "  <thead>\n",
       "    <tr style=\"text-align: right;\">\n",
       "      <th></th>\n",
       "      <th>loss</th>\n",
       "      <th>mse</th>\n",
       "    </tr>\n",
       "  </thead>\n",
       "  <tbody>\n",
       "    <tr>\n",
       "      <th>0</th>\n",
       "      <td>75.840561</td>\n",
       "      <td>75.840561</td>\n",
       "    </tr>\n",
       "    <tr>\n",
       "      <th>1</th>\n",
       "      <td>6.789617</td>\n",
       "      <td>6.789617</td>\n",
       "    </tr>\n",
       "    <tr>\n",
       "      <th>2</th>\n",
       "      <td>0.869796</td>\n",
       "      <td>0.869796</td>\n",
       "    </tr>\n",
       "    <tr>\n",
       "      <th>3</th>\n",
       "      <td>0.357264</td>\n",
       "      <td>0.357264</td>\n",
       "    </tr>\n",
       "    <tr>\n",
       "      <th>4</th>\n",
       "      <td>0.307972</td>\n",
       "      <td>0.307972</td>\n",
       "    </tr>\n",
       "    <tr>\n",
       "      <th>5</th>\n",
       "      <td>0.298460</td>\n",
       "      <td>0.298460</td>\n",
       "    </tr>\n",
       "    <tr>\n",
       "      <th>6</th>\n",
       "      <td>0.292455</td>\n",
       "      <td>0.292455</td>\n",
       "    </tr>\n",
       "    <tr>\n",
       "      <th>7</th>\n",
       "      <td>0.286850</td>\n",
       "      <td>0.286850</td>\n",
       "    </tr>\n",
       "    <tr>\n",
       "      <th>8</th>\n",
       "      <td>0.281376</td>\n",
       "      <td>0.281376</td>\n",
       "    </tr>\n",
       "    <tr>\n",
       "      <th>9</th>\n",
       "      <td>0.276008</td>\n",
       "      <td>0.276008</td>\n",
       "    </tr>\n",
       "    <tr>\n",
       "      <th>10</th>\n",
       "      <td>0.270743</td>\n",
       "      <td>0.270743</td>\n",
       "    </tr>\n",
       "    <tr>\n",
       "      <th>11</th>\n",
       "      <td>0.265579</td>\n",
       "      <td>0.265579</td>\n",
       "    </tr>\n",
       "    <tr>\n",
       "      <th>12</th>\n",
       "      <td>0.260513</td>\n",
       "      <td>0.260513</td>\n",
       "    </tr>\n",
       "    <tr>\n",
       "      <th>13</th>\n",
       "      <td>0.255544</td>\n",
       "      <td>0.255544</td>\n",
       "    </tr>\n",
       "    <tr>\n",
       "      <th>14</th>\n",
       "      <td>0.250669</td>\n",
       "      <td>0.250669</td>\n",
       "    </tr>\n",
       "    <tr>\n",
       "      <th>15</th>\n",
       "      <td>0.245888</td>\n",
       "      <td>0.245888</td>\n",
       "    </tr>\n",
       "    <tr>\n",
       "      <th>16</th>\n",
       "      <td>0.241198</td>\n",
       "      <td>0.241198</td>\n",
       "    </tr>\n",
       "    <tr>\n",
       "      <th>17</th>\n",
       "      <td>0.236597</td>\n",
       "      <td>0.236597</td>\n",
       "    </tr>\n",
       "    <tr>\n",
       "      <th>18</th>\n",
       "      <td>0.232084</td>\n",
       "      <td>0.232084</td>\n",
       "    </tr>\n",
       "    <tr>\n",
       "      <th>19</th>\n",
       "      <td>0.227657</td>\n",
       "      <td>0.227657</td>\n",
       "    </tr>\n",
       "    <tr>\n",
       "      <th>20</th>\n",
       "      <td>0.223314</td>\n",
       "      <td>0.223314</td>\n",
       "    </tr>\n",
       "    <tr>\n",
       "      <th>21</th>\n",
       "      <td>0.219055</td>\n",
       "      <td>0.219055</td>\n",
       "    </tr>\n",
       "    <tr>\n",
       "      <th>22</th>\n",
       "      <td>0.214876</td>\n",
       "      <td>0.214876</td>\n",
       "    </tr>\n",
       "    <tr>\n",
       "      <th>23</th>\n",
       "      <td>0.210777</td>\n",
       "      <td>0.210777</td>\n",
       "    </tr>\n",
       "    <tr>\n",
       "      <th>24</th>\n",
       "      <td>0.206757</td>\n",
       "      <td>0.206757</td>\n",
       "    </tr>\n",
       "    <tr>\n",
       "      <th>25</th>\n",
       "      <td>0.202813</td>\n",
       "      <td>0.202813</td>\n",
       "    </tr>\n",
       "    <tr>\n",
       "      <th>26</th>\n",
       "      <td>0.198944</td>\n",
       "      <td>0.198944</td>\n",
       "    </tr>\n",
       "    <tr>\n",
       "      <th>27</th>\n",
       "      <td>0.195150</td>\n",
       "      <td>0.195150</td>\n",
       "    </tr>\n",
       "    <tr>\n",
       "      <th>28</th>\n",
       "      <td>0.191427</td>\n",
       "      <td>0.191427</td>\n",
       "    </tr>\n",
       "    <tr>\n",
       "      <th>29</th>\n",
       "      <td>0.187776</td>\n",
       "      <td>0.187776</td>\n",
       "    </tr>\n",
       "  </tbody>\n",
       "</table>\n",
       "</div>"
      ],
      "text/plain": [
       "         loss        mse\n",
       "0   75.840561  75.840561\n",
       "1    6.789617   6.789617\n",
       "2    0.869796   0.869796\n",
       "3    0.357264   0.357264\n",
       "4    0.307972   0.307972\n",
       "5    0.298460   0.298460\n",
       "6    0.292455   0.292455\n",
       "7    0.286850   0.286850\n",
       "8    0.281376   0.281376\n",
       "9    0.276008   0.276008\n",
       "10   0.270743   0.270743\n",
       "11   0.265579   0.265579\n",
       "12   0.260513   0.260513\n",
       "13   0.255544   0.255544\n",
       "14   0.250669   0.250669\n",
       "15   0.245888   0.245888\n",
       "16   0.241198   0.241198\n",
       "17   0.236597   0.236597\n",
       "18   0.232084   0.232084\n",
       "19   0.227657   0.227657\n",
       "20   0.223314   0.223314\n",
       "21   0.219055   0.219055\n",
       "22   0.214876   0.214876\n",
       "23   0.210777   0.210777\n",
       "24   0.206757   0.206757\n",
       "25   0.202813   0.202813\n",
       "26   0.198944   0.198944\n",
       "27   0.195150   0.195150\n",
       "28   0.191427   0.191427\n",
       "29   0.187776   0.187776"
      ]
     },
     "execution_count": 334,
     "metadata": {},
     "output_type": "execute_result"
    }
   ],
   "source": [
    "losses_df = pd.DataFrame(history.history)\n",
    "losses_df"
   ]
  },
  {
   "cell_type": "code",
   "execution_count": 335,
   "metadata": {},
   "outputs": [
    {
     "data": {
      "text/plain": [
       "<AxesSubplot:>"
      ]
     },
     "execution_count": 335,
     "metadata": {},
     "output_type": "execute_result"
    },
    {
     "data": {
      "image/png": "[encoded data removed]",
      "text/plain": [
       "<Figure size 720x360 with 1 Axes>"
      ]
     },
     "metadata": {
      "needs_background": "light"
     },
     "output_type": "display_data"
    }
   ],
   "source": [
    "losses_df.plot(figsize=(10,5))"
   ]
  },
  {
   "cell_type": "code",
   "execution_count": 336,
   "metadata": {},
   "outputs": [
    {
     "name": "stdout",
     "output_type": "stream",
     "text": [
      "WARNING:tensorflow:6 out of the last 7 calls to <function Model.make_predict_function.<locals>.predict_function at 0x00000252C5F1DC60> triggered tf.function retracing. Tracing is expensive and the excessive number of tracings could be due to (1) creating @tf.function repeatedly in a loop, (2) passing tensors with different shapes, (3) passing Python objects instead of tensors. For (1), please define your @tf.function outside of the loop. For (2), @tf.function has experimental_relax_shapes=True option that relaxes argument shapes that can avoid unnecessary retracing. For (3), please refer to https://www.tensorflow.org/guide/function#controlling_retracing and https://www.tensorflow.org/api_docs/python/tf/function for  more details.\n"
     ]
    },
    {
     "data": {
      "text/plain": [
       "array([[62.65726]], dtype=float32)"
      ]
     },
     "execution_count": 336,
     "metadata": {},
     "output_type": "execute_result"
    }
   ],
   "source": [
    "model.predict([30.0])"
   ]
  },
  {
   "cell_type": "code",
   "execution_count": 337,
   "metadata": {},
   "outputs": [
    {
     "data": {
      "text/plain": [
       "[array([[2.075754]], dtype=float32), array([0.384643], dtype=float32)]"
      ]
     },
     "execution_count": 337,
     "metadata": {},
     "output_type": "execute_result"
    }
   ],
   "source": [
    "model.get_weights()"
   ]
  },
  {
   "cell_type": "code",
   "execution_count": 338,
   "metadata": {},
   "outputs": [
    {
     "data": {
      "text/plain": [
       "{'name': 'sequential_8',\n",
       " 'layers': [{'class_name': 'InputLayer',\n",
       "   'config': {'batch_input_shape': (None, 1),\n",
       "    'dtype': 'float32',\n",
       "    'sparse': False,\n",
       "    'ragged': False,\n",
       "    'name': 'dense_16_input'}},\n",
       "  {'class_name': 'Dense',\n",
       "   'config': {'name': 'dense_16',\n",
       "    'trainable': True,\n",
       "    'batch_input_shape': (None, 1),\n",
       "    'dtype': 'float32',\n",
       "    'units': 1,\n",
       "    'activation': 'linear',\n",
       "    'use_bias': True,\n",
       "    'kernel_initializer': {'class_name': 'GlorotUniform',\n",
       "     'config': {'seed': None}},\n",
       "    'bias_initializer': {'class_name': 'Zeros', 'config': {}},\n",
       "    'kernel_regularizer': None,\n",
       "    'bias_regularizer': None,\n",
       "    'activity_regularizer': None,\n",
       "    'kernel_constraint': None,\n",
       "    'bias_constraint': None}}]}"
      ]
     },
     "execution_count": 338,
     "metadata": {},
     "output_type": "execute_result"
    }
   ],
   "source": [
    "model.get_config()\n",
    "# model.get_input_at(1)"
   ]
  },
  {
   "cell_type": "code",
   "execution_count": 339,
   "metadata": {},
   "outputs": [],
   "source": [
    "# model.get_layer('dense')"
   ]
  },
  {
   "cell_type": "code",
   "execution_count": 340,
   "metadata": {},
   "outputs": [],
   "source": [
    "import seaborn as sns"
   ]
  },
  {
   "cell_type": "code",
   "execution_count": 341,
   "metadata": {},
   "outputs": [
    {
     "data": {
      "text/html": [
       "<div>\n",
       "<style scoped>\n",
       "    .dataframe tbody tr th:only-of-type {\n",
       "        vertical-align: middle;\n",
       "    }\n",
       "\n",
       "    .dataframe tbody tr th {\n",
       "        vertical-align: top;\n",
       "    }\n",
       "\n",
       "    .dataframe thead th {\n",
       "        text-align: right;\n",
       "    }\n",
       "</style>\n",
       "<table border=\"1\" class=\"dataframe\">\n",
       "  <thead>\n",
       "    <tr style=\"text-align: right;\">\n",
       "      <th></th>\n",
       "      <th>X</th>\n",
       "      <th>Y</th>\n",
       "      <th>month</th>\n",
       "      <th>day</th>\n",
       "      <th>FFMC</th>\n",
       "      <th>DMC</th>\n",
       "      <th>DC</th>\n",
       "      <th>ISI</th>\n",
       "      <th>temp</th>\n",
       "      <th>RH</th>\n",
       "      <th>wind</th>\n",
       "      <th>rain</th>\n",
       "      <th>area</th>\n",
       "    </tr>\n",
       "  </thead>\n",
       "  <tbody>\n",
       "    <tr>\n",
       "      <th>0</th>\n",
       "      <td>7</td>\n",
       "      <td>5</td>\n",
       "      <td>mar</td>\n",
       "      <td>fri</td>\n",
       "      <td>86.2</td>\n",
       "      <td>26.2</td>\n",
       "      <td>94.3</td>\n",
       "      <td>5.1</td>\n",
       "      <td>8.2</td>\n",
       "      <td>51</td>\n",
       "      <td>6.7</td>\n",
       "      <td>0.0</td>\n",
       "      <td>0.00</td>\n",
       "    </tr>\n",
       "    <tr>\n",
       "      <th>1</th>\n",
       "      <td>7</td>\n",
       "      <td>4</td>\n",
       "      <td>oct</td>\n",
       "      <td>tue</td>\n",
       "      <td>90.6</td>\n",
       "      <td>35.4</td>\n",
       "      <td>669.1</td>\n",
       "      <td>6.7</td>\n",
       "      <td>18.0</td>\n",
       "      <td>33</td>\n",
       "      <td>0.9</td>\n",
       "      <td>0.0</td>\n",
       "      <td>0.00</td>\n",
       "    </tr>\n",
       "    <tr>\n",
       "      <th>2</th>\n",
       "      <td>7</td>\n",
       "      <td>4</td>\n",
       "      <td>oct</td>\n",
       "      <td>sat</td>\n",
       "      <td>90.6</td>\n",
       "      <td>43.7</td>\n",
       "      <td>686.9</td>\n",
       "      <td>6.7</td>\n",
       "      <td>14.6</td>\n",
       "      <td>33</td>\n",
       "      <td>1.3</td>\n",
       "      <td>0.0</td>\n",
       "      <td>0.00</td>\n",
       "    </tr>\n",
       "    <tr>\n",
       "      <th>3</th>\n",
       "      <td>8</td>\n",
       "      <td>6</td>\n",
       "      <td>mar</td>\n",
       "      <td>fri</td>\n",
       "      <td>91.7</td>\n",
       "      <td>33.3</td>\n",
       "      <td>77.5</td>\n",
       "      <td>9.0</td>\n",
       "      <td>8.3</td>\n",
       "      <td>97</td>\n",
       "      <td>4.0</td>\n",
       "      <td>0.2</td>\n",
       "      <td>0.00</td>\n",
       "    </tr>\n",
       "    <tr>\n",
       "      <th>4</th>\n",
       "      <td>8</td>\n",
       "      <td>6</td>\n",
       "      <td>mar</td>\n",
       "      <td>sun</td>\n",
       "      <td>89.3</td>\n",
       "      <td>51.3</td>\n",
       "      <td>102.2</td>\n",
       "      <td>9.6</td>\n",
       "      <td>11.4</td>\n",
       "      <td>99</td>\n",
       "      <td>1.8</td>\n",
       "      <td>0.0</td>\n",
       "      <td>0.00</td>\n",
       "    </tr>\n",
       "    <tr>\n",
       "      <th>...</th>\n",
       "      <td>...</td>\n",
       "      <td>...</td>\n",
       "      <td>...</td>\n",
       "      <td>...</td>\n",
       "      <td>...</td>\n",
       "      <td>...</td>\n",
       "      <td>...</td>\n",
       "      <td>...</td>\n",
       "      <td>...</td>\n",
       "      <td>...</td>\n",
       "      <td>...</td>\n",
       "      <td>...</td>\n",
       "      <td>...</td>\n",
       "    </tr>\n",
       "    <tr>\n",
       "      <th>512</th>\n",
       "      <td>4</td>\n",
       "      <td>3</td>\n",
       "      <td>aug</td>\n",
       "      <td>sun</td>\n",
       "      <td>81.6</td>\n",
       "      <td>56.7</td>\n",
       "      <td>665.6</td>\n",
       "      <td>1.9</td>\n",
       "      <td>27.8</td>\n",
       "      <td>32</td>\n",
       "      <td>2.7</td>\n",
       "      <td>0.0</td>\n",
       "      <td>6.44</td>\n",
       "    </tr>\n",
       "    <tr>\n",
       "      <th>513</th>\n",
       "      <td>2</td>\n",
       "      <td>4</td>\n",
       "      <td>aug</td>\n",
       "      <td>sun</td>\n",
       "      <td>81.6</td>\n",
       "      <td>56.7</td>\n",
       "      <td>665.6</td>\n",
       "      <td>1.9</td>\n",
       "      <td>21.9</td>\n",
       "      <td>71</td>\n",
       "      <td>5.8</td>\n",
       "      <td>0.0</td>\n",
       "      <td>54.29</td>\n",
       "    </tr>\n",
       "    <tr>\n",
       "      <th>514</th>\n",
       "      <td>7</td>\n",
       "      <td>4</td>\n",
       "      <td>aug</td>\n",
       "      <td>sun</td>\n",
       "      <td>81.6</td>\n",
       "      <td>56.7</td>\n",
       "      <td>665.6</td>\n",
       "      <td>1.9</td>\n",
       "      <td>21.2</td>\n",
       "      <td>70</td>\n",
       "      <td>6.7</td>\n",
       "      <td>0.0</td>\n",
       "      <td>11.16</td>\n",
       "    </tr>\n",
       "    <tr>\n",
       "      <th>515</th>\n",
       "      <td>1</td>\n",
       "      <td>4</td>\n",
       "      <td>aug</td>\n",
       "      <td>sat</td>\n",
       "      <td>94.4</td>\n",
       "      <td>146.0</td>\n",
       "      <td>614.7</td>\n",
       "      <td>11.3</td>\n",
       "      <td>25.6</td>\n",
       "      <td>42</td>\n",
       "      <td>4.0</td>\n",
       "      <td>0.0</td>\n",
       "      <td>0.00</td>\n",
       "    </tr>\n",
       "    <tr>\n",
       "      <th>516</th>\n",
       "      <td>6</td>\n",
       "      <td>3</td>\n",
       "      <td>nov</td>\n",
       "      <td>tue</td>\n",
       "      <td>79.5</td>\n",
       "      <td>3.0</td>\n",
       "      <td>106.7</td>\n",
       "      <td>1.1</td>\n",
       "      <td>11.8</td>\n",
       "      <td>31</td>\n",
       "      <td>4.5</td>\n",
       "      <td>0.0</td>\n",
       "      <td>0.00</td>\n",
       "    </tr>\n",
       "  </tbody>\n",
       "</table>\n",
       "<p>517 rows × 13 columns</p>\n",
       "</div>"
      ],
      "text/plain": [
       "     X  Y month  day  FFMC    DMC     DC   ISI  temp  RH  wind  rain   area\n",
       "0    7  5   mar  fri  86.2   26.2   94.3   5.1   8.2  51   6.7   0.0   0.00\n",
       "1    7  4   oct  tue  90.6   35.4  669.1   6.7  18.0  33   0.9   0.0   0.00\n",
       "2    7  4   oct  sat  90.6   43.7  686.9   6.7  14.6  33   1.3   0.0   0.00\n",
       "3    8  6   mar  fri  91.7   33.3   77.5   9.0   8.3  97   4.0   0.2   0.00\n",
       "4    8  6   mar  sun  89.3   51.3  102.2   9.6  11.4  99   1.8   0.0   0.00\n",
       "..  .. ..   ...  ...   ...    ...    ...   ...   ...  ..   ...   ...    ...\n",
       "512  4  3   aug  sun  81.6   56.7  665.6   1.9  27.8  32   2.7   0.0   6.44\n",
       "513  2  4   aug  sun  81.6   56.7  665.6   1.9  21.9  71   5.8   0.0  54.29\n",
       "514  7  4   aug  sun  81.6   56.7  665.6   1.9  21.2  70   6.7   0.0  11.16\n",
       "515  1  4   aug  sat  94.4  146.0  614.7  11.3  25.6  42   4.0   0.0   0.00\n",
       "516  6  3   nov  tue  79.5    3.0  106.7   1.1  11.8  31   4.5   0.0   0.00\n",
       "\n",
       "[517 rows x 13 columns]"
      ]
     },
     "execution_count": 341,
     "metadata": {},
     "output_type": "execute_result"
    }
   ],
   "source": [
    "# dataset_url = 'https://archive.ics.uci.edu/ml/machine-learning-databases/forest-fires/forestfires.csv'\n",
    "# forest_df = pd.read_csv(dataset_url)\n",
    "\n",
    "forest_df"
   ]
  },
  {
   "cell_type": "code",
   "execution_count": 342,
   "metadata": {},
   "outputs": [
    {
     "data": {
      "text/plain": [
       "(517, 13)"
      ]
     },
     "execution_count": 342,
     "metadata": {},
     "output_type": "execute_result"
    }
   ],
   "source": [
    "forest_df.shape"
   ]
  },
  {
   "cell_type": "code",
   "execution_count": 343,
   "metadata": {},
   "outputs": [
    {
     "name": "stdout",
     "output_type": "stream",
     "text": [
      "<class 'pandas.core.frame.DataFrame'>\n",
      "RangeIndex: 517 entries, 0 to 516\n",
      "Data columns (total 13 columns):\n",
      " #   Column  Non-Null Count  Dtype  \n",
      "---  ------  --------------  -----  \n",
      " 0   X       517 non-null    int64  \n",
      " 1   Y       517 non-null    int64  \n",
      " 2   month   517 non-null    object \n",
      " 3   day     517 non-null    object \n",
      " 4   FFMC    517 non-null    float64\n",
      " 5   DMC     517 non-null    float64\n",
      " 6   DC      517 non-null    float64\n",
      " 7   ISI     517 non-null    float64\n",
      " 8   temp    517 non-null    float64\n",
      " 9   RH      517 non-null    int64  \n",
      " 10  wind    517 non-null    float64\n",
      " 11  rain    517 non-null    float64\n",
      " 12  area    517 non-null    float64\n",
      "dtypes: float64(8), int64(3), object(2)\n",
      "memory usage: 52.6+ KB\n"
     ]
    }
   ],
   "source": [
    "forest_df.info()"
   ]
  },
  {
   "cell_type": "code",
   "execution_count": 344,
   "metadata": {},
   "outputs": [
    {
     "data": {
      "text/html": [
       "<div>\n",
       "<style scoped>\n",
       "    .dataframe tbody tr th:only-of-type {\n",
       "        vertical-align: middle;\n",
       "    }\n",
       "\n",
       "    .dataframe tbody tr th {\n",
       "        vertical-align: top;\n",
       "    }\n",
       "\n",
       "    .dataframe thead th {\n",
       "        text-align: right;\n",
       "    }\n",
       "</style>\n",
       "<table border=\"1\" class=\"dataframe\">\n",
       "  <thead>\n",
       "    <tr style=\"text-align: right;\">\n",
       "      <th></th>\n",
       "      <th>X</th>\n",
       "      <th>Y</th>\n",
       "      <th>FFMC</th>\n",
       "      <th>DMC</th>\n",
       "      <th>DC</th>\n",
       "      <th>ISI</th>\n",
       "      <th>temp</th>\n",
       "      <th>RH</th>\n",
       "      <th>wind</th>\n",
       "      <th>rain</th>\n",
       "      <th>area</th>\n",
       "    </tr>\n",
       "  </thead>\n",
       "  <tbody>\n",
       "    <tr>\n",
       "      <th>count</th>\n",
       "      <td>517.000000</td>\n",
       "      <td>517.000000</td>\n",
       "      <td>517.000000</td>\n",
       "      <td>517.000000</td>\n",
       "      <td>517.000000</td>\n",
       "      <td>517.000000</td>\n",
       "      <td>517.000000</td>\n",
       "      <td>517.000000</td>\n",
       "      <td>517.000000</td>\n",
       "      <td>517.000000</td>\n",
       "      <td>517.000000</td>\n",
       "    </tr>\n",
       "    <tr>\n",
       "      <th>mean</th>\n",
       "      <td>4.669246</td>\n",
       "      <td>4.299807</td>\n",
       "      <td>90.644681</td>\n",
       "      <td>110.872340</td>\n",
       "      <td>547.940039</td>\n",
       "      <td>9.021663</td>\n",
       "      <td>18.889168</td>\n",
       "      <td>44.288201</td>\n",
       "      <td>4.017602</td>\n",
       "      <td>0.021663</td>\n",
       "      <td>12.847292</td>\n",
       "    </tr>\n",
       "    <tr>\n",
       "      <th>std</th>\n",
       "      <td>2.313778</td>\n",
       "      <td>1.229900</td>\n",
       "      <td>5.520111</td>\n",
       "      <td>64.046482</td>\n",
       "      <td>248.066192</td>\n",
       "      <td>4.559477</td>\n",
       "      <td>5.806625</td>\n",
       "      <td>16.317469</td>\n",
       "      <td>1.791653</td>\n",
       "      <td>0.295959</td>\n",
       "      <td>63.655818</td>\n",
       "    </tr>\n",
       "    <tr>\n",
       "      <th>min</th>\n",
       "      <td>1.000000</td>\n",
       "      <td>2.000000</td>\n",
       "      <td>18.700000</td>\n",
       "      <td>1.100000</td>\n",
       "      <td>7.900000</td>\n",
       "      <td>0.000000</td>\n",
       "      <td>2.200000</td>\n",
       "      <td>15.000000</td>\n",
       "      <td>0.400000</td>\n",
       "      <td>0.000000</td>\n",
       "      <td>0.000000</td>\n",
       "    </tr>\n",
       "    <tr>\n",
       "      <th>25%</th>\n",
       "      <td>3.000000</td>\n",
       "      <td>4.000000</td>\n",
       "      <td>90.200000</td>\n",
       "      <td>68.600000</td>\n",
       "      <td>437.700000</td>\n",
       "      <td>6.500000</td>\n",
       "      <td>15.500000</td>\n",
       "      <td>33.000000</td>\n",
       "      <td>2.700000</td>\n",
       "      <td>0.000000</td>\n",
       "      <td>0.000000</td>\n",
       "    </tr>\n",
       "    <tr>\n",
       "      <th>50%</th>\n",
       "      <td>4.000000</td>\n",
       "      <td>4.000000</td>\n",
       "      <td>91.600000</td>\n",
       "      <td>108.300000</td>\n",
       "      <td>664.200000</td>\n",
       "      <td>8.400000</td>\n",
       "      <td>19.300000</td>\n",
       "      <td>42.000000</td>\n",
       "      <td>4.000000</td>\n",
       "      <td>0.000000</td>\n",
       "      <td>0.520000</td>\n",
       "    </tr>\n",
       "    <tr>\n",
       "      <th>75%</th>\n",
       "      <td>7.000000</td>\n",
       "      <td>5.000000</td>\n",
       "      <td>92.900000</td>\n",
       "      <td>142.400000</td>\n",
       "      <td>713.900000</td>\n",
       "      <td>10.800000</td>\n",
       "      <td>22.800000</td>\n",
       "      <td>53.000000</td>\n",
       "      <td>4.900000</td>\n",
       "      <td>0.000000</td>\n",
       "      <td>6.570000</td>\n",
       "    </tr>\n",
       "    <tr>\n",
       "      <th>max</th>\n",
       "      <td>9.000000</td>\n",
       "      <td>9.000000</td>\n",
       "      <td>96.200000</td>\n",
       "      <td>291.300000</td>\n",
       "      <td>860.600000</td>\n",
       "      <td>56.100000</td>\n",
       "      <td>33.300000</td>\n",
       "      <td>100.000000</td>\n",
       "      <td>9.400000</td>\n",
       "      <td>6.400000</td>\n",
       "      <td>1090.840000</td>\n",
       "    </tr>\n",
       "  </tbody>\n",
       "</table>\n",
       "</div>"
      ],
      "text/plain": [
       "                X           Y        FFMC         DMC          DC         ISI  \\\n",
       "count  517.000000  517.000000  517.000000  517.000000  517.000000  517.000000   \n",
       "mean     4.669246    4.299807   90.644681  110.872340  547.940039    9.021663   \n",
       "std      2.313778    1.229900    5.520111   64.046482  248.066192    4.559477   \n",
       "min      1.000000    2.000000   18.700000    1.100000    7.900000    0.000000   \n",
       "25%      3.000000    4.000000   90.200000   68.600000  437.700000    6.500000   \n",
       "50%      4.000000    4.000000   91.600000  108.300000  664.200000    8.400000   \n",
       "75%      7.000000    5.000000   92.900000  142.400000  713.900000   10.800000   \n",
       "max      9.000000    9.000000   96.200000  291.300000  860.600000   56.100000   \n",
       "\n",
       "             temp          RH        wind        rain         area  \n",
       "count  517.000000  517.000000  517.000000  517.000000   517.000000  \n",
       "mean    18.889168   44.288201    4.017602    0.021663    12.847292  \n",
       "std      5.806625   16.317469    1.791653    0.295959    63.655818  \n",
       "min      2.200000   15.000000    0.400000    0.000000     0.000000  \n",
       "25%     15.500000   33.000000    2.700000    0.000000     0.000000  \n",
       "50%     19.300000   42.000000    4.000000    0.000000     0.520000  \n",
       "75%     22.800000   53.000000    4.900000    0.000000     6.570000  \n",
       "max     33.300000  100.000000    9.400000    6.400000  1090.840000  "
      ]
     },
     "execution_count": 344,
     "metadata": {},
     "output_type": "execute_result"
    }
   ],
   "source": [
    "forest_df.describe()"
   ]
  },
  {
   "cell_type": "code",
   "execution_count": 345,
   "metadata": {},
   "outputs": [],
   "source": [
    "from sklearn.model_selection import train_test_split\n",
    "\n",
    "train_data, test_data = train_test_split(forest_df, test_size= 0.3, random_state=42)\n"
   ]
  },
  {
   "cell_type": "code",
   "execution_count": 346,
   "metadata": {},
   "outputs": [
    {
     "name": "stdout",
     "output_type": "stream",
     "text": [
      "The shape of the Training Data is (361, 13)\n",
      "The shape of the test Data is (156, 13)\n"
     ]
    }
   ],
   "source": [
    "print('The shape of the Training Data is {}\\nThe shape of the test Data is {}'.format(train_data.shape, test_data.shape))"
   ]
  },
  {
   "cell_type": "code",
   "execution_count": 347,
   "metadata": {},
   "outputs": [
    {
     "data": {
      "text/html": [
       "<div>\n",
       "<style scoped>\n",
       "    .dataframe tbody tr th:only-of-type {\n",
       "        vertical-align: middle;\n",
       "    }\n",
       "\n",
       "    .dataframe tbody tr th {\n",
       "        vertical-align: top;\n",
       "    }\n",
       "\n",
       "    .dataframe thead th {\n",
       "        text-align: right;\n",
       "    }\n",
       "</style>\n",
       "<table border=\"1\" class=\"dataframe\">\n",
       "  <thead>\n",
       "    <tr style=\"text-align: right;\">\n",
       "      <th></th>\n",
       "      <th>X</th>\n",
       "      <th>Y</th>\n",
       "      <th>month</th>\n",
       "      <th>day</th>\n",
       "      <th>FFMC</th>\n",
       "      <th>DMC</th>\n",
       "      <th>DC</th>\n",
       "      <th>ISI</th>\n",
       "      <th>temp</th>\n",
       "      <th>RH</th>\n",
       "      <th>wind</th>\n",
       "      <th>rain</th>\n",
       "      <th>area</th>\n",
       "    </tr>\n",
       "  </thead>\n",
       "  <tbody>\n",
       "    <tr>\n",
       "      <th>311</th>\n",
       "      <td>6</td>\n",
       "      <td>3</td>\n",
       "      <td>sep</td>\n",
       "      <td>sun</td>\n",
       "      <td>92.4</td>\n",
       "      <td>105.8</td>\n",
       "      <td>758.1</td>\n",
       "      <td>9.9</td>\n",
       "      <td>24.8</td>\n",
       "      <td>28</td>\n",
       "      <td>1.8</td>\n",
       "      <td>0.0</td>\n",
       "      <td>14.29</td>\n",
       "    </tr>\n",
       "    <tr>\n",
       "      <th>368</th>\n",
       "      <td>6</td>\n",
       "      <td>5</td>\n",
       "      <td>sep</td>\n",
       "      <td>sat</td>\n",
       "      <td>91.2</td>\n",
       "      <td>94.3</td>\n",
       "      <td>744.4</td>\n",
       "      <td>8.4</td>\n",
       "      <td>16.8</td>\n",
       "      <td>47</td>\n",
       "      <td>4.9</td>\n",
       "      <td>0.0</td>\n",
       "      <td>12.64</td>\n",
       "    </tr>\n",
       "    <tr>\n",
       "      <th>23</th>\n",
       "      <td>7</td>\n",
       "      <td>4</td>\n",
       "      <td>aug</td>\n",
       "      <td>sat</td>\n",
       "      <td>90.2</td>\n",
       "      <td>110.9</td>\n",
       "      <td>537.4</td>\n",
       "      <td>6.2</td>\n",
       "      <td>19.5</td>\n",
       "      <td>43</td>\n",
       "      <td>5.8</td>\n",
       "      <td>0.0</td>\n",
       "      <td>0.00</td>\n",
       "    </tr>\n",
       "    <tr>\n",
       "      <th>271</th>\n",
       "      <td>8</td>\n",
       "      <td>6</td>\n",
       "      <td>aug</td>\n",
       "      <td>tue</td>\n",
       "      <td>92.1</td>\n",
       "      <td>152.6</td>\n",
       "      <td>658.2</td>\n",
       "      <td>14.3</td>\n",
       "      <td>20.1</td>\n",
       "      <td>58</td>\n",
       "      <td>4.5</td>\n",
       "      <td>0.0</td>\n",
       "      <td>9.27</td>\n",
       "    </tr>\n",
       "    <tr>\n",
       "      <th>299</th>\n",
       "      <td>6</td>\n",
       "      <td>5</td>\n",
       "      <td>jun</td>\n",
       "      <td>sat</td>\n",
       "      <td>53.4</td>\n",
       "      <td>71.0</td>\n",
       "      <td>233.8</td>\n",
       "      <td>0.4</td>\n",
       "      <td>10.6</td>\n",
       "      <td>90</td>\n",
       "      <td>2.7</td>\n",
       "      <td>0.0</td>\n",
       "      <td>0.00</td>\n",
       "    </tr>\n",
       "  </tbody>\n",
       "</table>\n",
       "</div>"
      ],
      "text/plain": [
       "     X  Y month  day  FFMC    DMC     DC   ISI  temp  RH  wind  rain   area\n",
       "311  6  3   sep  sun  92.4  105.8  758.1   9.9  24.8  28   1.8   0.0  14.29\n",
       "368  6  5   sep  sat  91.2   94.3  744.4   8.4  16.8  47   4.9   0.0  12.64\n",
       "23   7  4   aug  sat  90.2  110.9  537.4   6.2  19.5  43   5.8   0.0   0.00\n",
       "271  8  6   aug  tue  92.1  152.6  658.2  14.3  20.1  58   4.5   0.0   9.27\n",
       "299  6  5   jun  sat  53.4   71.0  233.8   0.4  10.6  90   2.7   0.0   0.00"
      ]
     },
     "execution_count": 347,
     "metadata": {},
     "output_type": "execute_result"
    }
   ],
   "source": [
    "train_data.head()"
   ]
  },
  {
   "cell_type": "code",
   "execution_count": 348,
   "metadata": {},
   "outputs": [
    {
     "data": {
      "text/plain": [
       "<AxesSubplot:>"
      ]
     },
     "execution_count": 348,
     "metadata": {},
     "output_type": "execute_result"
    },
    {
     "data": {
      "image/png": "[encoded data removed]",
      "text/plain": [
       "<Figure size 720x360 with 1 Axes>"
      ]
     },
     "metadata": {
      "needs_background": "light"
     },
     "output_type": "display_data"
    }
   ],
   "source": [
    "train_data['month'].value_counts().plot(kind ='bar', figsize=(10,5))"
   ]
  },
  {
   "cell_type": "code",
   "execution_count": 349,
   "metadata": {},
   "outputs": [
    {
     "data": {
      "text/plain": [
       "<AxesSubplot:>"
      ]
     },
     "execution_count": 349,
     "metadata": {},
     "output_type": "execute_result"
    },
    {
     "data": {
      "image/png": "[encoded data removed]",
      "text/plain": [
       "<Figure size 720x360 with 1 Axes>"
      ]
     },
     "metadata": {
      "needs_background": "light"
     },
     "output_type": "display_data"
    }
   ],
   "source": [
    "train_data['day'].value_counts().plot(kind ='bar', figsize=(10,5))"
   ]
  },
  {
   "cell_type": "code",
   "execution_count": 350,
   "metadata": {},
   "outputs": [
    {
     "data": {
      "text/plain": [
       "<AxesSubplot:xlabel='area', ylabel='Density'>"
      ]
     },
     "execution_count": 350,
     "metadata": {},
     "output_type": "execute_result"
    },
    {
     "data": {
      "image/png": "[encoded data removed]",
      "text/plain": [
       "<Figure size 432x288 with 1 Axes>"
      ]
     },
     "metadata": {
      "needs_background": "light"
     },
     "output_type": "display_data"
    }
   ],
   "source": [
    "sns.kdeplot(data= train_data, x ='area', color='green')"
   ]
  },
  {
   "cell_type": "code",
   "execution_count": 351,
   "metadata": {},
   "outputs": [],
   "source": [
    "def get_feats_and_labels(data, label):\n",
    "    data_feats = data.drop(label, axis = 1)\n",
    "    data_label = data[label]\n",
    "\n",
    "    return data_feats, data_label"
   ]
  },
  {
   "cell_type": "code",
   "execution_count": 352,
   "metadata": {},
   "outputs": [],
   "source": [
    "train_feats, train_label = get_feats_and_labels(train_data, 'area')"
   ]
  },
  {
   "cell_type": "code",
   "execution_count": 353,
   "metadata": {},
   "outputs": [
    {
     "data": {
      "text/plain": [
       "311    14.29\n",
       "368    12.64\n",
       "23      0.00\n",
       "271     9.27\n",
       "299     0.00\n",
       "Name: area, dtype: float64"
      ]
     },
     "execution_count": 353,
     "metadata": {},
     "output_type": "execute_result"
    }
   ],
   "source": [
    "train_feats.head()\n",
    "train_label.head()"
   ]
  },
  {
   "cell_type": "code",
   "execution_count": 354,
   "metadata": {},
   "outputs": [
    {
     "data": {
      "text/plain": [
       "array([[ 0.55492368, -1.11559477,  0.31227419, ..., -0.07097384,\n",
       "        11.        ,  3.        ],\n",
       "       [ 0.55492368,  0.54172915,  0.10927722, ..., -0.07097384,\n",
       "        11.        ,  2.        ],\n",
       "       [ 0.99231986, -0.28693281, -0.05988692, ..., -0.07097384,\n",
       "         1.        ,  2.        ],\n",
       "       ...,\n",
       "       [-1.19466103, -1.94425674,  0.26152495, ..., -0.07097384,\n",
       "         1.        ,  5.        ],\n",
       "       [-1.19466103,  0.54172915,  0.04161157, ..., -0.07097384,\n",
       "         5.        ,  2.        ],\n",
       "       [-1.19466103, -0.28693281,  0.71826813, ..., -0.07097384,\n",
       "         1.        ,  5.        ]])"
      ]
     },
     "execution_count": 354,
     "metadata": {},
     "output_type": "execute_result"
    }
   ],
   "source": [
    "from sklearn.compose import ColumnTransformer\n",
    "from sklearn.preprocessing import StandardScaler, OrdinalEncoder\n",
    "\n",
    "scaler = StandardScaler()\n",
    "encoder = OrdinalEncoder()\n",
    "\n",
    "num_feats = ['X', 'Y', 'FFMC', 'DMC', 'DC', 'ISI', 'temp', 'RH',\n",
    "       'wind', 'rain']\n",
    "\n",
    "cat_feats = ['month', 'day']\n",
    "\n",
    "\n",
    "final_pipe = ColumnTransformer([\n",
    "    ('num', scaler, num_feats),\n",
    "    ('cat', encoder, cat_feats)\n",
    "])\n",
    "\n",
    "training_data_prepared = final_pipe.fit_transform(train_feats)\n",
    "training_data_prepared"
   ]
  },
  {
   "cell_type": "code",
   "execution_count": 355,
   "metadata": {},
   "outputs": [
    {
     "data": {
      "text/plain": [
       "(361, 12)"
      ]
     },
     "execution_count": 355,
     "metadata": {},
     "output_type": "execute_result"
    }
   ],
   "source": [
    "training_data_prepared.shape"
   ]
  },
  {
   "cell_type": "code",
   "execution_count": 356,
   "metadata": {},
   "outputs": [
    {
     "data": {
      "text/plain": [
       "numpy.ndarray"
      ]
     },
     "execution_count": 356,
     "metadata": {},
     "output_type": "execute_result"
    }
   ],
   "source": [
    "type(training_data_prepared)"
   ]
  },
  {
   "cell_type": "code",
   "execution_count": 357,
   "metadata": {},
   "outputs": [],
   "source": [
    "test_feats, test_label = get_feats_and_labels(test_data, 'area')\n",
    "\n",
    "test_data_prepared = final_pipe.fit_transform"
   ]
  },
  {
   "cell_type": "code",
   "execution_count": 365,
   "metadata": {},
   "outputs": [
    {
     "data": {
      "text/plain": [
       "array([0.00000e+00, 0.00000e+00, 1.23000e+00, 1.46000e+00, 1.95000e+00,\n",
       "       0.00000e+00, 1.39900e+01, 6.44000e+00, 0.00000e+00, 7.50000e-01,\n",
       "       0.00000e+00, 1.72000e+00, 0.00000e+00, 0.00000e+00, 0.00000e+00,\n",
       "       4.42000e+00, 0.00000e+00, 0.00000e+00, 6.96000e+00, 1.00200e+01,\n",
       "       3.68500e+01, 2.34100e+01, 2.47700e+01, 1.92300e+01, 0.00000e+00,\n",
       "       6.80000e-01, 0.00000e+00, 5.86000e+00, 0.00000e+00, 2.18000e+00,\n",
       "       2.87000e+00, 1.56400e+01, 4.70000e-01, 0.00000e+00, 0.00000e+00,\n",
       "       8.16000e+00, 0.00000e+00, 4.85500e+01, 0.00000e+00, 4.69000e+00,\n",
       "       0.00000e+00, 0.00000e+00, 1.56000e+00, 0.00000e+00, 0.00000e+00,\n",
       "       0.00000e+00, 0.00000e+00, 6.11300e+01, 3.78000e+00, 7.36000e+00,\n",
       "       0.00000e+00, 1.09084e+03, 1.64000e+01, 0.00000e+00, 4.95900e+01,\n",
       "       0.00000e+00, 0.00000e+00, 0.00000e+00, 0.00000e+00, 0.00000e+00,\n",
       "       2.47000e+00, 1.00100e+01, 2.74000e+00, 0.00000e+00, 0.00000e+00,\n",
       "       0.00000e+00, 0.00000e+00, 0.00000e+00, 5.83000e+01, 0.00000e+00,\n",
       "       0.00000e+00, 2.12880e+02, 0.00000e+00, 0.00000e+00, 9.00000e-01,\n",
       "       0.00000e+00, 0.00000e+00, 3.20000e+00, 6.36000e+00, 0.00000e+00,\n",
       "       4.61000e+00, 9.51800e+01, 0.00000e+00, 0.00000e+00, 0.00000e+00,\n",
       "       6.84000e+00, 0.00000e+00, 0.00000e+00, 1.07300e+01, 5.20000e-01,\n",
       "       0.00000e+00, 0.00000e+00, 1.37000e+01, 9.71000e+00, 1.07000e+00,\n",
       "       3.20700e+01, 0.00000e+00, 1.52000e+00, 0.00000e+00, 2.51000e+00,\n",
       "       5.38000e+00, 2.17000e+00, 5.42900e+01, 3.43600e+01, 3.33000e+00,\n",
       "       3.07000e+00, 3.09000e+00, 1.46800e+01, 6.38000e+00, 0.00000e+00,\n",
       "       2.03000e+00, 0.00000e+00, 0.00000e+00, 1.12200e+01, 0.00000e+00,\n",
       "       6.61000e+00, 1.26000e+00, 0.00000e+00, 6.43000e+00, 0.00000e+00,\n",
       "       0.00000e+00, 0.00000e+00, 2.42300e+01, 5.33000e+00, 3.63000e+00,\n",
       "       0.00000e+00, 5.80000e+00, 3.93000e+00, 0.00000e+00, 2.20300e+01,\n",
       "       0.00000e+00, 0.00000e+00, 1.46000e+00, 0.00000e+00, 7.90000e-01,\n",
       "       0.00000e+00, 0.00000e+00, 1.63000e+00, 8.27500e+01, 2.42400e+01,\n",
       "       0.00000e+00, 0.00000e+00, 0.00000e+00, 0.00000e+00, 0.00000e+00,\n",
       "       3.17200e+01, 7.02000e+00, 0.00000e+00, 3.64000e+00, 0.00000e+00,\n",
       "       0.00000e+00, 8.71000e+00, 0.00000e+00, 0.00000e+00, 6.30000e+00,\n",
       "       0.00000e+00])"
      ]
     },
     "execution_count": 365,
     "metadata": {},
     "output_type": "execute_result"
    }
   ],
   "source": [
    "train_label.to_numpy()\n",
    "test_label.to_numpy()"
   ]
  },
  {
   "cell_type": "code",
   "execution_count": 366,
   "metadata": {},
   "outputs": [
    {
     "data": {
      "text/plain": [
       "(12,)"
      ]
     },
     "execution_count": 366,
     "metadata": {},
     "output_type": "execute_result"
    }
   ],
   "source": [
    "input_shape = training_data_prepared.shape[1:]\n",
    "input_shape"
   ]
  },
  {
   "cell_type": "code",
   "execution_count": 370,
   "metadata": {},
   "outputs": [
    {
     "name": "stdout",
     "output_type": "stream",
     "text": [
      "Model: \"sequential_11\"\n",
      "_________________________________________________________________\n",
      " Layer (type)                Output Shape              Param #   \n",
      "=================================================================\n",
      " dense_23 (Dense)            (None, 12)                156       \n",
      "                                                                 \n",
      " dense_24 (Dense)            (None, 24)                312       \n",
      "                                                                 \n",
      " dense_25 (Dense)            (None, 1)                 25        \n",
      "                                                                 \n",
      "=================================================================\n",
      "Total params: 493\n",
      "Trainable params: 493\n",
      "Non-trainable params: 0\n",
      "_________________________________________________________________\n"
     ]
    }
   ],
   "source": [
    "model = keras.models.Sequential([ \n",
    "    keras.layers.Dense(12, activation='relu', input_shape=input_shape),\n",
    "    keras.layers.Dense(24, activation='relu'),\n",
    "    keras.layers.Dense(1)\n",
    "])\n",
    "\n",
    "model.compile(loss='mean_squared_error', optimizer='adam')\n",
    "\n",
    "model.summary()"
   ]
  },
  {
   "cell_type": "code",
   "execution_count": 371,
   "metadata": {},
   "outputs": [],
   "source": [
    "# from tensorflow.keras.utils import plot_model\n",
    "# plot_model(model, to_file='model.png')"
   ]
  },
  {
   "cell_type": "code",
   "execution_count": 375,
   "metadata": {},
   "outputs": [
    {
     "name": "stdout",
     "output_type": "stream",
     "text": [
      "Epoch 1/50\n",
      "12/12 [==============================] - 0s 1ms/step - loss: 2225.7222\n",
      "Epoch 2/50\n",
      "12/12 [==============================] - 0s 2ms/step - loss: 2224.0913\n",
      "Epoch 3/50\n",
      "12/12 [==============================] - 0s 2ms/step - loss: 2224.0796\n",
      "Epoch 4/50\n",
      "12/12 [==============================] - 0s 2ms/step - loss: 2219.5562\n",
      "Epoch 5/50\n",
      "12/12 [==============================] - 0s 3ms/step - loss: 2218.1802\n",
      "Epoch 6/50\n",
      "12/12 [==============================] - 0s 2ms/step - loss: 2217.6145\n",
      "Epoch 7/50\n",
      "12/12 [==============================] - 0s 2ms/step - loss: 2214.6343\n",
      "Epoch 8/50\n",
      "12/12 [==============================] - 0s 3ms/step - loss: 2216.2839\n",
      "Epoch 9/50\n",
      "12/12 [==============================] - 0s 3ms/step - loss: 2213.6528\n",
      "Epoch 10/50\n",
      "12/12 [==============================] - 0s 3ms/step - loss: 2210.5835\n",
      "Epoch 11/50\n",
      "12/12 [==============================] - 0s 3ms/step - loss: 2208.4868\n",
      "Epoch 12/50\n",
      "12/12 [==============================] - 0s 2ms/step - loss: 2206.7773\n",
      "Epoch 13/50\n",
      "12/12 [==============================] - 0s 2ms/step - loss: 2205.4290\n",
      "Epoch 14/50\n",
      "12/12 [==============================] - 0s 2ms/step - loss: 2203.3989\n",
      "Epoch 15/50\n",
      "12/12 [==============================] - 0s 3ms/step - loss: 2203.1399\n",
      "Epoch 16/50\n",
      "12/12 [==============================] - 0s 2ms/step - loss: 2200.1604\n",
      "Epoch 17/50\n",
      "12/12 [==============================] - 0s 2ms/step - loss: 2197.7295\n",
      "Epoch 18/50\n",
      "12/12 [==============================] - 0s 2ms/step - loss: 2196.3738\n",
      "Epoch 19/50\n",
      "12/12 [==============================] - 0s 2ms/step - loss: 2195.2705\n",
      "Epoch 20/50\n",
      "12/12 [==============================] - 0s 2ms/step - loss: 2192.9700\n",
      "Epoch 21/50\n",
      "12/12 [==============================] - 0s 2ms/step - loss: 2189.7568\n",
      "Epoch 22/50\n",
      "12/12 [==============================] - 0s 2ms/step - loss: 2188.5493\n",
      "Epoch 23/50\n",
      "12/12 [==============================] - 0s 2ms/step - loss: 2184.8545\n",
      "Epoch 24/50\n",
      "12/12 [==============================] - 0s 2ms/step - loss: 2184.2554\n",
      "Epoch 25/50\n",
      "12/12 [==============================] - 0s 2ms/step - loss: 2180.2229\n",
      "Epoch 26/50\n",
      "12/12 [==============================] - 0s 2ms/step - loss: 2178.3853\n",
      "Epoch 27/50\n",
      "12/12 [==============================] - 0s 2ms/step - loss: 2175.9314\n",
      "Epoch 28/50\n",
      "12/12 [==============================] - 0s 2ms/step - loss: 2174.0044\n",
      "Epoch 29/50\n",
      "12/12 [==============================] - 0s 2ms/step - loss: 2173.0527\n",
      "Epoch 30/50\n",
      "12/12 [==============================] - 0s 2ms/step - loss: 2169.4412\n",
      "Epoch 31/50\n",
      "12/12 [==============================] - 0s 2ms/step - loss: 2168.4597\n",
      "Epoch 32/50\n",
      "12/12 [==============================] - 0s 3ms/step - loss: 2165.4978\n",
      "Epoch 33/50\n",
      "12/12 [==============================] - 0s 3ms/step - loss: 2163.6199\n",
      "Epoch 34/50\n",
      "12/12 [==============================] - 0s 3ms/step - loss: 2164.9692\n",
      "Epoch 35/50\n",
      "12/12 [==============================] - 0s 2ms/step - loss: 2160.8123\n",
      "Epoch 36/50\n",
      "12/12 [==============================] - 0s 3ms/step - loss: 2158.2551\n",
      "Epoch 37/50\n",
      "12/12 [==============================] - 0s 2ms/step - loss: 2156.6194\n",
      "Epoch 38/50\n",
      "12/12 [==============================] - 0s 2ms/step - loss: 2155.0615\n",
      "Epoch 39/50\n",
      "12/12 [==============================] - 0s 2ms/step - loss: 2151.7712\n",
      "Epoch 40/50\n",
      "12/12 [==============================] - 0s 2ms/step - loss: 2150.6848\n",
      "Epoch 41/50\n",
      "12/12 [==============================] - 0s 2ms/step - loss: 2149.7659\n",
      "Epoch 42/50\n",
      "12/12 [==============================] - 0s 2ms/step - loss: 2146.6736\n",
      "Epoch 43/50\n",
      "12/12 [==============================] - 0s 2ms/step - loss: 2145.0195\n",
      "Epoch 44/50\n",
      "12/12 [==============================] - 0s 2ms/step - loss: 2142.3169\n",
      "Epoch 45/50\n",
      "12/12 [==============================] - 0s 3ms/step - loss: 2140.6592\n",
      "Epoch 46/50\n",
      "12/12 [==============================] - 0s 5ms/step - loss: 2138.9417\n",
      "Epoch 47/50\n",
      "12/12 [==============================] - 0s 2ms/step - loss: 2137.2427\n",
      "Epoch 48/50\n",
      "12/12 [==============================] - 0s 2ms/step - loss: 2134.5059\n",
      "Epoch 49/50\n",
      "12/12 [==============================] - 0s 2ms/step - loss: 2133.5105\n",
      "Epoch 50/50\n",
      "12/12 [==============================] - 0s 3ms/step - loss: 2130.4282\n"
     ]
    }
   ],
   "source": [
    "\n",
    "history = model.fit(training_data_prepared, train_label,             \n",
    "                    epochs = 50 )"
   ]
  },
  {
   "cell_type": "code",
   "execution_count": 376,
   "metadata": {},
   "outputs": [],
   "source": [
    "\n",
    "# history = model.fit(training_data_prepared, train_label,\n",
    "#                     validation_data = (test_data_prepared, test_label),                 \n",
    "#                     epochs = 50 )"
   ]
  },
  {
   "cell_type": "code",
   "execution_count": 380,
   "metadata": {},
   "outputs": [
    {
     "data": {
      "text/plain": [
       "{'loss': [2225.72216796875,\n",
       "  2224.09130859375,\n",
       "  2224.07958984375,\n",
       "  2219.55615234375,\n",
       "  2218.18017578125,\n",
       "  2217.614501953125,\n",
       "  2214.63427734375,\n",
       "  2216.283935546875,\n",
       "  2213.65283203125,\n",
       "  2210.58349609375,\n",
       "  2208.48681640625,\n",
       "  2206.77734375,\n",
       "  2205.428955078125,\n",
       "  2203.39892578125,\n",
       "  2203.139892578125,\n",
       "  2200.160400390625,\n",
       "  2197.7294921875,\n",
       "  2196.373779296875,\n",
       "  2195.2705078125,\n",
       "  2192.969970703125,\n",
       "  2189.7568359375,\n",
       "  2188.54931640625,\n",
       "  2184.8544921875,\n",
       "  2184.25537109375,\n",
       "  2180.222900390625,\n",
       "  2178.38525390625,\n",
       "  2175.931396484375,\n",
       "  2174.00439453125,\n",
       "  2173.052734375,\n",
       "  2169.441162109375,\n",
       "  2168.459716796875,\n",
       "  2165.497802734375,\n",
       "  2163.619873046875,\n",
       "  2164.96923828125,\n",
       "  2160.812255859375,\n",
       "  2158.255126953125,\n",
       "  2156.619384765625,\n",
       "  2155.0615234375,\n",
       "  2151.771240234375,\n",
       "  2150.684814453125,\n",
       "  2149.765869140625,\n",
       "  2146.673583984375,\n",
       "  2145.01953125,\n",
       "  2142.31689453125,\n",
       "  2140.6591796875,\n",
       "  2138.941650390625,\n",
       "  2137.24267578125,\n",
       "  2134.505859375,\n",
       "  2133.510498046875,\n",
       "  2130.42822265625]}"
      ]
     },
     "execution_count": 380,
     "metadata": {},
     "output_type": "execute_result"
    }
   ],
   "source": [
    "history.history"
   ]
  },
  {
   "cell_type": "code",
   "execution_count": 383,
   "metadata": {},
   "outputs": [
    {
     "data": {
      "text/plain": [
       "<AxesSubplot:>"
      ]
     },
     "execution_count": 383,
     "metadata": {},
     "output_type": "execute_result"
    },
    {
     "data": {
      "image/png": "[encoded data removed]",
      "text/plain": [
       "<Figure size 720x360 with 1 Axes>"
      ]
     },
     "metadata": {
      "needs_background": "light"
     },
     "output_type": "display_data"
    }
   ],
   "source": [
    "loss_df = pd.DataFrame(history.history)\n",
    "loss_df.plot(figsize=(10,5))"
   ]
  },
  {
   "cell_type": "code",
   "execution_count": 386,
   "metadata": {},
   "outputs": [],
   "source": [
    "# model.get_weights()\n",
    "# model.evaluate(test_data_prepared, test_label)"
   ]
  },
  {
   "cell_type": "code",
   "execution_count": 388,
   "metadata": {},
   "outputs": [
    {
     "data": {
      "text/plain": [
       "<AxesSubplot:xlabel='area', ylabel='Density'>"
      ]
     },
     "execution_count": 388,
     "metadata": {},
     "output_type": "execute_result"
    },
    {
     "data": {
      "image/png": "[encoded data removed]",
      "text/plain": [
       "<Figure size 432x288 with 1 Axes>"
      ]
     },
     "metadata": {
      "needs_background": "light"
     },
     "output_type": "display_data"
    }
   ],
   "source": [
    "sns.kdeplot(data = train_data, x ='area', color ='red')"
   ]
  },
  {
   "cell_type": "code",
   "execution_count": 390,
   "metadata": {},
   "outputs": [],
   "source": [
    "model2 = keras.models.Sequential([\n",
    "    keras.layers.Dense(12, activation='relu',input_shape=input_shape),\n",
    "    keras.layers.Dense(6, activation='relu'),\n",
    "    keras.layers.Dense(1, activation='sigmoid')\n",
    "])\n",
    "\n",
    "model2.compile(loss ='log_cosh', optimizer ='adam')"
   ]
  },
  {
   "cell_type": "code",
   "execution_count": 391,
   "metadata": {},
   "outputs": [
    {
     "name": "stdout",
     "output_type": "stream",
     "text": [
      "Epoch 1/50\n",
      "12/12 [==============================] - 0s 2ms/step - loss: 2131.0146\n",
      "Epoch 2/50\n",
      "12/12 [==============================] - 0s 3ms/step - loss: 2127.9678\n",
      "Epoch 3/50\n",
      "12/12 [==============================] - 0s 3ms/step - loss: 2128.3860\n",
      "Epoch 4/50\n",
      "12/12 [==============================] - 0s 3ms/step - loss: 2123.5718\n",
      "Epoch 5/50\n",
      "12/12 [==============================] - 0s 2ms/step - loss: 2121.4670\n",
      "Epoch 6/50\n",
      "12/12 [==============================] - 0s 2ms/step - loss: 2120.7888\n",
      "Epoch 7/50\n",
      "12/12 [==============================] - 0s 2ms/step - loss: 2118.1497\n",
      "Epoch 8/50\n",
      "12/12 [==============================] - 0s 3ms/step - loss: 2120.4104\n",
      "Epoch 9/50\n",
      "12/12 [==============================] - 0s 2ms/step - loss: 2115.9133\n",
      "Epoch 10/50\n",
      "12/12 [==============================] - 0s 2ms/step - loss: 2112.4387\n",
      "Epoch 11/50\n",
      "12/12 [==============================] - 0s 2ms/step - loss: 2110.6501\n",
      "Epoch 12/50\n",
      "12/12 [==============================] - 0s 3ms/step - loss: 2108.4692\n",
      "Epoch 13/50\n",
      "12/12 [==============================] - 0s 4ms/step - loss: 2107.0562\n",
      "Epoch 14/50\n",
      "12/12 [==============================] - 0s 2ms/step - loss: 2105.6724\n",
      "Epoch 15/50\n",
      "12/12 [==============================] - 0s 5ms/step - loss: 2104.7144\n",
      "Epoch 16/50\n",
      "12/12 [==============================] - 0s 3ms/step - loss: 2101.2319\n",
      "Epoch 17/50\n",
      "12/12 [==============================] - 0s 4ms/step - loss: 2099.0000\n",
      "Epoch 18/50\n",
      "12/12 [==============================] - 0s 3ms/step - loss: 2097.3938\n",
      "Epoch 19/50\n",
      "12/12 [==============================] - 0s 3ms/step - loss: 2096.9543\n",
      "Epoch 20/50\n",
      "12/12 [==============================] - 0s 3ms/step - loss: 2093.1985\n",
      "Epoch 21/50\n",
      "12/12 [==============================] - 0s 3ms/step - loss: 2090.8772\n",
      "Epoch 22/50\n",
      "12/12 [==============================] - 0s 3ms/step - loss: 2091.0957\n",
      "Epoch 23/50\n",
      "12/12 [==============================] - 0s 4ms/step - loss: 2086.8735\n",
      "Epoch 24/50\n",
      "12/12 [==============================] - 0s 3ms/step - loss: 2086.6741\n",
      "Epoch 25/50\n",
      "12/12 [==============================] - 0s 3ms/step - loss: 2083.8889\n",
      "Epoch 26/50\n",
      "12/12 [==============================] - 0s 3ms/step - loss: 2081.2661\n",
      "Epoch 27/50\n",
      "12/12 [==============================] - 0s 2ms/step - loss: 2079.1333\n",
      "Epoch 28/50\n",
      "12/12 [==============================] - 0s 3ms/step - loss: 2076.8591\n",
      "Epoch 29/50\n",
      "12/12 [==============================] - 0s 3ms/step - loss: 2076.6836\n",
      "Epoch 30/50\n",
      "12/12 [==============================] - 0s 3ms/step - loss: 2073.6331\n",
      "Epoch 31/50\n",
      "12/12 [==============================] - 0s 4ms/step - loss: 2072.6836\n",
      "Epoch 32/50\n",
      "12/12 [==============================] - 0s 3ms/step - loss: 2068.9707\n",
      "Epoch 33/50\n",
      "12/12 [==============================] - 0s 2ms/step - loss: 2067.4172\n",
      "Epoch 34/50\n",
      "12/12 [==============================] - 0s 2ms/step - loss: 2069.2705\n",
      "Epoch 35/50\n",
      "12/12 [==============================] - 0s 2ms/step - loss: 2064.3574\n",
      "Epoch 36/50\n",
      "12/12 [==============================] - 0s 2ms/step - loss: 2062.6240\n",
      "Epoch 37/50\n",
      "12/12 [==============================] - 0s 3ms/step - loss: 2060.4031\n",
      "Epoch 38/50\n",
      "12/12 [==============================] - 0s 2ms/step - loss: 2059.3613\n",
      "Epoch 39/50\n",
      "12/12 [==============================] - 0s 3ms/step - loss: 2056.1116\n",
      "Epoch 40/50\n",
      "12/12 [==============================] - 0s 3ms/step - loss: 2056.0698\n",
      "Epoch 41/50\n",
      "12/12 [==============================] - 0s 3ms/step - loss: 2054.4338\n",
      "Epoch 42/50\n",
      "12/12 [==============================] - 0s 2ms/step - loss: 2052.6943\n",
      "Epoch 43/50\n",
      "12/12 [==============================] - 0s 3ms/step - loss: 2050.8582\n",
      "Epoch 44/50\n",
      "12/12 [==============================] - 0s 3ms/step - loss: 2046.4142\n",
      "Epoch 45/50\n",
      "12/12 [==============================] - 0s 2ms/step - loss: 2045.5076\n",
      "Epoch 46/50\n",
      "12/12 [==============================] - 0s 3ms/step - loss: 2043.1572\n",
      "Epoch 47/50\n",
      "12/12 [==============================] - 0s 2ms/step - loss: 2043.6018\n",
      "Epoch 48/50\n",
      "12/12 [==============================] - 0s 2ms/step - loss: 2039.5659\n",
      "Epoch 49/50\n",
      "12/12 [==============================] - 0s 2ms/step - loss: 2037.8782\n",
      "Epoch 50/50\n",
      "12/12 [==============================] - 0s 3ms/step - loss: 2037.2532\n"
     ]
    }
   ],
   "source": [
    "history= model.fit(training_data_prepared, train_label, \n",
    "epochs =50)"
   ]
  },
  {
   "cell_type": "code",
   "execution_count": 396,
   "metadata": {},
   "outputs": [
    {
     "data": {
      "text/plain": [
       "<AxesSubplot:>"
      ]
     },
     "execution_count": 396,
     "metadata": {},
     "output_type": "execute_result"
    },
    {
     "data": {
      "image/png": "[encoded data removed]",
      "text/plain": [
       "<Figure size 720x360 with 1 Axes>"
      ]
     },
     "metadata": {
      "needs_background": "light"
     },
     "output_type": "display_data"
    }
   ],
   "source": [
    "loss_df = pd.DataFrame(history.history)\n",
    "loss_df.plot(figsize=(10,5))"
   ]
  },
  {
   "cell_type": "code",
   "execution_count": 397,
   "metadata": {},
   "outputs": [],
   "source": [
    "model.save('forest_model.h5')"
   ]
  },
  {
   "cell_type": "code",
   "execution_count": 398,
   "metadata": {},
   "outputs": [],
   "source": [
    "loaded_model = keras.models.load_model('forest_model.h5')"
   ]
  },
  {
   "cell_type": "markdown",
   "metadata": {},
   "source": [
    "Classification with tensorflow using the cancer dataset"
   ]
  },
  {
   "cell_type": "code",
   "execution_count": 404,
   "metadata": {},
   "outputs": [
    {
     "data": {
      "text/plain": [
       "['DESCR',\n",
       " 'data',\n",
       " 'data_module',\n",
       " 'feature_names',\n",
       " 'filename',\n",
       " 'frame',\n",
       " 'target',\n",
       " 'target_names']"
      ]
     },
     "execution_count": 404,
     "metadata": {},
     "output_type": "execute_result"
    }
   ],
   "source": [
    "from sklearn.datasets import load_breast_cancer \n",
    "data = load_breast_cancer()\n",
    "dir(data)"
   ]
  },
  {
   "cell_type": "code",
   "execution_count": 405,
   "metadata": {},
   "outputs": [
    {
     "data": {
      "text/plain": [
       "array(['mean radius', 'mean texture', 'mean perimeter', 'mean area',\n",
       "       'mean smoothness', 'mean compactness', 'mean concavity',\n",
       "       'mean concave points', 'mean symmetry', 'mean fractal dimension',\n",
       "       'radius error', 'texture error', 'perimeter error', 'area error',\n",
       "       'smoothness error', 'compactness error', 'concavity error',\n",
       "       'concave points error', 'symmetry error',\n",
       "       'fractal dimension error', 'worst radius', 'worst texture',\n",
       "       'worst perimeter', 'worst area', 'worst smoothness',\n",
       "       'worst compactness', 'worst concavity', 'worst concave points',\n",
       "       'worst symmetry', 'worst fractal dimension'], dtype='<U23')"
      ]
     },
     "execution_count": 405,
     "metadata": {},
     "output_type": "execute_result"
    }
   ],
   "source": [
    "data.feature_names"
   ]
  },
  {
   "cell_type": "code",
   "execution_count": 407,
   "metadata": {},
   "outputs": [],
   "source": [
    "x = data.data\n",
    "y = data.target"
   ]
  },
  {
   "cell_type": "code",
   "execution_count": 408,
   "metadata": {},
   "outputs": [
    {
     "data": {
      "text/plain": [
       "numpy.ndarray"
      ]
     },
     "execution_count": 408,
     "metadata": {},
     "output_type": "execute_result"
    }
   ],
   "source": [
    "type(x)"
   ]
  },
  {
   "cell_type": "code",
   "execution_count": 412,
   "metadata": {},
   "outputs": [
    {
     "data": {
      "text/html": [
       "<div>\n",
       "<style scoped>\n",
       "    .dataframe tbody tr th:only-of-type {\n",
       "        vertical-align: middle;\n",
       "    }\n",
       "\n",
       "    .dataframe tbody tr th {\n",
       "        vertical-align: top;\n",
       "    }\n",
       "\n",
       "    .dataframe thead th {\n",
       "        text-align: right;\n",
       "    }\n",
       "</style>\n",
       "<table border=\"1\" class=\"dataframe\">\n",
       "  <thead>\n",
       "    <tr style=\"text-align: right;\">\n",
       "      <th></th>\n",
       "      <th>mean radius</th>\n",
       "      <th>mean texture</th>\n",
       "      <th>mean perimeter</th>\n",
       "      <th>mean area</th>\n",
       "      <th>mean smoothness</th>\n",
       "      <th>mean compactness</th>\n",
       "      <th>mean concavity</th>\n",
       "      <th>mean concave points</th>\n",
       "      <th>mean symmetry</th>\n",
       "      <th>mean fractal dimension</th>\n",
       "      <th>...</th>\n",
       "      <th>worst radius</th>\n",
       "      <th>worst texture</th>\n",
       "      <th>worst perimeter</th>\n",
       "      <th>worst area</th>\n",
       "      <th>worst smoothness</th>\n",
       "      <th>worst compactness</th>\n",
       "      <th>worst concavity</th>\n",
       "      <th>worst concave points</th>\n",
       "      <th>worst symmetry</th>\n",
       "      <th>worst fractal dimension</th>\n",
       "    </tr>\n",
       "  </thead>\n",
       "  <tbody>\n",
       "    <tr>\n",
       "      <th>0</th>\n",
       "      <td>17.99</td>\n",
       "      <td>10.38</td>\n",
       "      <td>122.80</td>\n",
       "      <td>1001.0</td>\n",
       "      <td>0.11840</td>\n",
       "      <td>0.27760</td>\n",
       "      <td>0.30010</td>\n",
       "      <td>0.14710</td>\n",
       "      <td>0.2419</td>\n",
       "      <td>0.07871</td>\n",
       "      <td>...</td>\n",
       "      <td>25.380</td>\n",
       "      <td>17.33</td>\n",
       "      <td>184.60</td>\n",
       "      <td>2019.0</td>\n",
       "      <td>0.16220</td>\n",
       "      <td>0.66560</td>\n",
       "      <td>0.7119</td>\n",
       "      <td>0.2654</td>\n",
       "      <td>0.4601</td>\n",
       "      <td>0.11890</td>\n",
       "    </tr>\n",
       "    <tr>\n",
       "      <th>1</th>\n",
       "      <td>20.57</td>\n",
       "      <td>17.77</td>\n",
       "      <td>132.90</td>\n",
       "      <td>1326.0</td>\n",
       "      <td>0.08474</td>\n",
       "      <td>0.07864</td>\n",
       "      <td>0.08690</td>\n",
       "      <td>0.07017</td>\n",
       "      <td>0.1812</td>\n",
       "      <td>0.05667</td>\n",
       "      <td>...</td>\n",
       "      <td>24.990</td>\n",
       "      <td>23.41</td>\n",
       "      <td>158.80</td>\n",
       "      <td>1956.0</td>\n",
       "      <td>0.12380</td>\n",
       "      <td>0.18660</td>\n",
       "      <td>0.2416</td>\n",
       "      <td>0.1860</td>\n",
       "      <td>0.2750</td>\n",
       "      <td>0.08902</td>\n",
       "    </tr>\n",
       "    <tr>\n",
       "      <th>2</th>\n",
       "      <td>19.69</td>\n",
       "      <td>21.25</td>\n",
       "      <td>130.00</td>\n",
       "      <td>1203.0</td>\n",
       "      <td>0.10960</td>\n",
       "      <td>0.15990</td>\n",
       "      <td>0.19740</td>\n",
       "      <td>0.12790</td>\n",
       "      <td>0.2069</td>\n",
       "      <td>0.05999</td>\n",
       "      <td>...</td>\n",
       "      <td>23.570</td>\n",
       "      <td>25.53</td>\n",
       "      <td>152.50</td>\n",
       "      <td>1709.0</td>\n",
       "      <td>0.14440</td>\n",
       "      <td>0.42450</td>\n",
       "      <td>0.4504</td>\n",
       "      <td>0.2430</td>\n",
       "      <td>0.3613</td>\n",
       "      <td>0.08758</td>\n",
       "    </tr>\n",
       "    <tr>\n",
       "      <th>3</th>\n",
       "      <td>11.42</td>\n",
       "      <td>20.38</td>\n",
       "      <td>77.58</td>\n",
       "      <td>386.1</td>\n",
       "      <td>0.14250</td>\n",
       "      <td>0.28390</td>\n",
       "      <td>0.24140</td>\n",
       "      <td>0.10520</td>\n",
       "      <td>0.2597</td>\n",
       "      <td>0.09744</td>\n",
       "      <td>...</td>\n",
       "      <td>14.910</td>\n",
       "      <td>26.50</td>\n",
       "      <td>98.87</td>\n",
       "      <td>567.7</td>\n",
       "      <td>0.20980</td>\n",
       "      <td>0.86630</td>\n",
       "      <td>0.6869</td>\n",
       "      <td>0.2575</td>\n",
       "      <td>0.6638</td>\n",
       "      <td>0.17300</td>\n",
       "    </tr>\n",
       "    <tr>\n",
       "      <th>4</th>\n",
       "      <td>20.29</td>\n",
       "      <td>14.34</td>\n",
       "      <td>135.10</td>\n",
       "      <td>1297.0</td>\n",
       "      <td>0.10030</td>\n",
       "      <td>0.13280</td>\n",
       "      <td>0.19800</td>\n",
       "      <td>0.10430</td>\n",
       "      <td>0.1809</td>\n",
       "      <td>0.05883</td>\n",
       "      <td>...</td>\n",
       "      <td>22.540</td>\n",
       "      <td>16.67</td>\n",
       "      <td>152.20</td>\n",
       "      <td>1575.0</td>\n",
       "      <td>0.13740</td>\n",
       "      <td>0.20500</td>\n",
       "      <td>0.4000</td>\n",
       "      <td>0.1625</td>\n",
       "      <td>0.2364</td>\n",
       "      <td>0.07678</td>\n",
       "    </tr>\n",
       "    <tr>\n",
       "      <th>...</th>\n",
       "      <td>...</td>\n",
       "      <td>...</td>\n",
       "      <td>...</td>\n",
       "      <td>...</td>\n",
       "      <td>...</td>\n",
       "      <td>...</td>\n",
       "      <td>...</td>\n",
       "      <td>...</td>\n",
       "      <td>...</td>\n",
       "      <td>...</td>\n",
       "      <td>...</td>\n",
       "      <td>...</td>\n",
       "      <td>...</td>\n",
       "      <td>...</td>\n",
       "      <td>...</td>\n",
       "      <td>...</td>\n",
       "      <td>...</td>\n",
       "      <td>...</td>\n",
       "      <td>...</td>\n",
       "      <td>...</td>\n",
       "      <td>...</td>\n",
       "    </tr>\n",
       "    <tr>\n",
       "      <th>564</th>\n",
       "      <td>21.56</td>\n",
       "      <td>22.39</td>\n",
       "      <td>142.00</td>\n",
       "      <td>1479.0</td>\n",
       "      <td>0.11100</td>\n",
       "      <td>0.11590</td>\n",
       "      <td>0.24390</td>\n",
       "      <td>0.13890</td>\n",
       "      <td>0.1726</td>\n",
       "      <td>0.05623</td>\n",
       "      <td>...</td>\n",
       "      <td>25.450</td>\n",
       "      <td>26.40</td>\n",
       "      <td>166.10</td>\n",
       "      <td>2027.0</td>\n",
       "      <td>0.14100</td>\n",
       "      <td>0.21130</td>\n",
       "      <td>0.4107</td>\n",
       "      <td>0.2216</td>\n",
       "      <td>0.2060</td>\n",
       "      <td>0.07115</td>\n",
       "    </tr>\n",
       "    <tr>\n",
       "      <th>565</th>\n",
       "      <td>20.13</td>\n",
       "      <td>28.25</td>\n",
       "      <td>131.20</td>\n",
       "      <td>1261.0</td>\n",
       "      <td>0.09780</td>\n",
       "      <td>0.10340</td>\n",
       "      <td>0.14400</td>\n",
       "      <td>0.09791</td>\n",
       "      <td>0.1752</td>\n",
       "      <td>0.05533</td>\n",
       "      <td>...</td>\n",
       "      <td>23.690</td>\n",
       "      <td>38.25</td>\n",
       "      <td>155.00</td>\n",
       "      <td>1731.0</td>\n",
       "      <td>0.11660</td>\n",
       "      <td>0.19220</td>\n",
       "      <td>0.3215</td>\n",
       "      <td>0.1628</td>\n",
       "      <td>0.2572</td>\n",
       "      <td>0.06637</td>\n",
       "    </tr>\n",
       "    <tr>\n",
       "      <th>566</th>\n",
       "      <td>16.60</td>\n",
       "      <td>28.08</td>\n",
       "      <td>108.30</td>\n",
       "      <td>858.1</td>\n",
       "      <td>0.08455</td>\n",
       "      <td>0.10230</td>\n",
       "      <td>0.09251</td>\n",
       "      <td>0.05302</td>\n",
       "      <td>0.1590</td>\n",
       "      <td>0.05648</td>\n",
       "      <td>...</td>\n",
       "      <td>18.980</td>\n",
       "      <td>34.12</td>\n",
       "      <td>126.70</td>\n",
       "      <td>1124.0</td>\n",
       "      <td>0.11390</td>\n",
       "      <td>0.30940</td>\n",
       "      <td>0.3403</td>\n",
       "      <td>0.1418</td>\n",
       "      <td>0.2218</td>\n",
       "      <td>0.07820</td>\n",
       "    </tr>\n",
       "    <tr>\n",
       "      <th>567</th>\n",
       "      <td>20.60</td>\n",
       "      <td>29.33</td>\n",
       "      <td>140.10</td>\n",
       "      <td>1265.0</td>\n",
       "      <td>0.11780</td>\n",
       "      <td>0.27700</td>\n",
       "      <td>0.35140</td>\n",
       "      <td>0.15200</td>\n",
       "      <td>0.2397</td>\n",
       "      <td>0.07016</td>\n",
       "      <td>...</td>\n",
       "      <td>25.740</td>\n",
       "      <td>39.42</td>\n",
       "      <td>184.60</td>\n",
       "      <td>1821.0</td>\n",
       "      <td>0.16500</td>\n",
       "      <td>0.86810</td>\n",
       "      <td>0.9387</td>\n",
       "      <td>0.2650</td>\n",
       "      <td>0.4087</td>\n",
       "      <td>0.12400</td>\n",
       "    </tr>\n",
       "    <tr>\n",
       "      <th>568</th>\n",
       "      <td>7.76</td>\n",
       "      <td>24.54</td>\n",
       "      <td>47.92</td>\n",
       "      <td>181.0</td>\n",
       "      <td>0.05263</td>\n",
       "      <td>0.04362</td>\n",
       "      <td>0.00000</td>\n",
       "      <td>0.00000</td>\n",
       "      <td>0.1587</td>\n",
       "      <td>0.05884</td>\n",
       "      <td>...</td>\n",
       "      <td>9.456</td>\n",
       "      <td>30.37</td>\n",
       "      <td>59.16</td>\n",
       "      <td>268.6</td>\n",
       "      <td>0.08996</td>\n",
       "      <td>0.06444</td>\n",
       "      <td>0.0000</td>\n",
       "      <td>0.0000</td>\n",
       "      <td>0.2871</td>\n",
       "      <td>0.07039</td>\n",
       "    </tr>\n",
       "  </tbody>\n",
       "</table>\n",
       "<p>569 rows × 30 columns</p>\n",
       "</div>"
      ],
      "text/plain": [
       "     mean radius  mean texture  mean perimeter  mean area  mean smoothness  \\\n",
       "0          17.99         10.38          122.80     1001.0          0.11840   \n",
       "1          20.57         17.77          132.90     1326.0          0.08474   \n",
       "2          19.69         21.25          130.00     1203.0          0.10960   \n",
       "3          11.42         20.38           77.58      386.1          0.14250   \n",
       "4          20.29         14.34          135.10     1297.0          0.10030   \n",
       "..           ...           ...             ...        ...              ...   \n",
       "564        21.56         22.39          142.00     1479.0          0.11100   \n",
       "565        20.13         28.25          131.20     1261.0          0.09780   \n",
       "566        16.60         28.08          108.30      858.1          0.08455   \n",
       "567        20.60         29.33          140.10     1265.0          0.11780   \n",
       "568         7.76         24.54           47.92      181.0          0.05263   \n",
       "\n",
       "     mean compactness  mean concavity  mean concave points  mean symmetry  \\\n",
       "0             0.27760         0.30010              0.14710         0.2419   \n",
       "1             0.07864         0.08690              0.07017         0.1812   \n",
       "2             0.15990         0.19740              0.12790         0.2069   \n",
       "3             0.28390         0.24140              0.10520         0.2597   \n",
       "4             0.13280         0.19800              0.10430         0.1809   \n",
       "..                ...             ...                  ...            ...   \n",
       "564           0.11590         0.24390              0.13890         0.1726   \n",
       "565           0.10340         0.14400              0.09791         0.1752   \n",
       "566           0.10230         0.09251              0.05302         0.1590   \n",
       "567           0.27700         0.35140              0.15200         0.2397   \n",
       "568           0.04362         0.00000              0.00000         0.1587   \n",
       "\n",
       "     mean fractal dimension  ...  worst radius  worst texture  \\\n",
       "0                   0.07871  ...        25.380          17.33   \n",
       "1                   0.05667  ...        24.990          23.41   \n",
       "2                   0.05999  ...        23.570          25.53   \n",
       "3                   0.09744  ...        14.910          26.50   \n",
       "4                   0.05883  ...        22.540          16.67   \n",
       "..                      ...  ...           ...            ...   \n",
       "564                 0.05623  ...        25.450          26.40   \n",
       "565                 0.05533  ...        23.690          38.25   \n",
       "566                 0.05648  ...        18.980          34.12   \n",
       "567                 0.07016  ...        25.740          39.42   \n",
       "568                 0.05884  ...         9.456          30.37   \n",
       "\n",
       "     worst perimeter  worst area  worst smoothness  worst compactness  \\\n",
       "0             184.60      2019.0           0.16220            0.66560   \n",
       "1             158.80      1956.0           0.12380            0.18660   \n",
       "2             152.50      1709.0           0.14440            0.42450   \n",
       "3              98.87       567.7           0.20980            0.86630   \n",
       "4             152.20      1575.0           0.13740            0.20500   \n",
       "..               ...         ...               ...                ...   \n",
       "564           166.10      2027.0           0.14100            0.21130   \n",
       "565           155.00      1731.0           0.11660            0.19220   \n",
       "566           126.70      1124.0           0.11390            0.30940   \n",
       "567           184.60      1821.0           0.16500            0.86810   \n",
       "568            59.16       268.6           0.08996            0.06444   \n",
       "\n",
       "     worst concavity  worst concave points  worst symmetry  \\\n",
       "0             0.7119                0.2654          0.4601   \n",
       "1             0.2416                0.1860          0.2750   \n",
       "2             0.4504                0.2430          0.3613   \n",
       "3             0.6869                0.2575          0.6638   \n",
       "4             0.4000                0.1625          0.2364   \n",
       "..               ...                   ...             ...   \n",
       "564           0.4107                0.2216          0.2060   \n",
       "565           0.3215                0.1628          0.2572   \n",
       "566           0.3403                0.1418          0.2218   \n",
       "567           0.9387                0.2650          0.4087   \n",
       "568           0.0000                0.0000          0.2871   \n",
       "\n",
       "     worst fractal dimension  \n",
       "0                    0.11890  \n",
       "1                    0.08902  \n",
       "2                    0.08758  \n",
       "3                    0.17300  \n",
       "4                    0.07678  \n",
       "..                       ...  \n",
       "564                  0.07115  \n",
       "565                  0.06637  \n",
       "566                  0.07820  \n",
       "567                  0.12400  \n",
       "568                  0.07039  \n",
       "\n",
       "[569 rows x 30 columns]"
      ]
     },
     "execution_count": 412,
     "metadata": {},
     "output_type": "execute_result"
    }
   ],
   "source": [
    "data_df = pd.DataFrame(x, columns = data.feature_names)\n",
    "data_df"
   ]
  },
  {
   "cell_type": "code",
   "execution_count": 414,
   "metadata": {},
   "outputs": [
    {
     "name": "stdout",
     "output_type": "stream",
     "text": [
      "<class 'pandas.core.frame.DataFrame'>\n",
      "RangeIndex: 569 entries, 0 to 568\n",
      "Data columns (total 30 columns):\n",
      " #   Column                   Non-Null Count  Dtype  \n",
      "---  ------                   --------------  -----  \n",
      " 0   mean radius              569 non-null    float64\n",
      " 1   mean texture             569 non-null    float64\n",
      " 2   mean perimeter           569 non-null    float64\n",
      " 3   mean area                569 non-null    float64\n",
      " 4   mean smoothness          569 non-null    float64\n",
      " 5   mean compactness         569 non-null    float64\n",
      " 6   mean concavity           569 non-null    float64\n",
      " 7   mean concave points      569 non-null    float64\n",
      " 8   mean symmetry            569 non-null    float64\n",
      " 9   mean fractal dimension   569 non-null    float64\n",
      " 10  radius error             569 non-null    float64\n",
      " 11  texture error            569 non-null    float64\n",
      " 12  perimeter error          569 non-null    float64\n",
      " 13  area error               569 non-null    float64\n",
      " 14  smoothness error         569 non-null    float64\n",
      " 15  compactness error        569 non-null    float64\n",
      " 16  concavity error          569 non-null    float64\n",
      " 17  concave points error     569 non-null    float64\n",
      " 18  symmetry error           569 non-null    float64\n",
      " 19  fractal dimension error  569 non-null    float64\n",
      " 20  worst radius             569 non-null    float64\n",
      " 21  worst texture            569 non-null    float64\n",
      " 22  worst perimeter          569 non-null    float64\n",
      " 23  worst area               569 non-null    float64\n",
      " 24  worst smoothness         569 non-null    float64\n",
      " 25  worst compactness        569 non-null    float64\n",
      " 26  worst concavity          569 non-null    float64\n",
      " 27  worst concave points     569 non-null    float64\n",
      " 28  worst symmetry           569 non-null    float64\n",
      " 29  worst fractal dimension  569 non-null    float64\n",
      "dtypes: float64(30)\n",
      "memory usage: 133.5 KB\n"
     ]
    }
   ],
   "source": [
    "data_df.info()"
   ]
  },
  {
   "cell_type": "code",
   "execution_count": 418,
   "metadata": {},
   "outputs": [
    {
     "data": {
      "text/html": [
       "<div>\n",
       "<style scoped>\n",
       "    .dataframe tbody tr th:only-of-type {\n",
       "        vertical-align: middle;\n",
       "    }\n",
       "\n",
       "    .dataframe tbody tr th {\n",
       "        vertical-align: top;\n",
       "    }\n",
       "\n",
       "    .dataframe thead th {\n",
       "        text-align: right;\n",
       "    }\n",
       "</style>\n",
       "<table border=\"1\" class=\"dataframe\">\n",
       "  <thead>\n",
       "    <tr style=\"text-align: right;\">\n",
       "      <th></th>\n",
       "      <th>count</th>\n",
       "      <th>mean</th>\n",
       "      <th>std</th>\n",
       "      <th>min</th>\n",
       "      <th>25%</th>\n",
       "      <th>50%</th>\n",
       "      <th>75%</th>\n",
       "      <th>max</th>\n",
       "    </tr>\n",
       "  </thead>\n",
       "  <tbody>\n",
       "    <tr>\n",
       "      <th>mean radius</th>\n",
       "      <td>569.0</td>\n",
       "      <td>14.127292</td>\n",
       "      <td>3.524049</td>\n",
       "      <td>6.981000</td>\n",
       "      <td>11.700000</td>\n",
       "      <td>13.370000</td>\n",
       "      <td>15.780000</td>\n",
       "      <td>28.11000</td>\n",
       "    </tr>\n",
       "    <tr>\n",
       "      <th>mean texture</th>\n",
       "      <td>569.0</td>\n",
       "      <td>19.289649</td>\n",
       "      <td>4.301036</td>\n",
       "      <td>9.710000</td>\n",
       "      <td>16.170000</td>\n",
       "      <td>18.840000</td>\n",
       "      <td>21.800000</td>\n",
       "      <td>39.28000</td>\n",
       "    </tr>\n",
       "    <tr>\n",
       "      <th>mean perimeter</th>\n",
       "      <td>569.0</td>\n",
       "      <td>91.969033</td>\n",
       "      <td>24.298981</td>\n",
       "      <td>43.790000</td>\n",
       "      <td>75.170000</td>\n",
       "      <td>86.240000</td>\n",
       "      <td>104.100000</td>\n",
       "      <td>188.50000</td>\n",
       "    </tr>\n",
       "    <tr>\n",
       "      <th>mean area</th>\n",
       "      <td>569.0</td>\n",
       "      <td>654.889104</td>\n",
       "      <td>351.914129</td>\n",
       "      <td>143.500000</td>\n",
       "      <td>420.300000</td>\n",
       "      <td>551.100000</td>\n",
       "      <td>782.700000</td>\n",
       "      <td>2501.00000</td>\n",
       "    </tr>\n",
       "    <tr>\n",
       "      <th>mean smoothness</th>\n",
       "      <td>569.0</td>\n",
       "      <td>0.096360</td>\n",
       "      <td>0.014064</td>\n",
       "      <td>0.052630</td>\n",
       "      <td>0.086370</td>\n",
       "      <td>0.095870</td>\n",
       "      <td>0.105300</td>\n",
       "      <td>0.16340</td>\n",
       "    </tr>\n",
       "    <tr>\n",
       "      <th>mean compactness</th>\n",
       "      <td>569.0</td>\n",
       "      <td>0.104341</td>\n",
       "      <td>0.052813</td>\n",
       "      <td>0.019380</td>\n",
       "      <td>0.064920</td>\n",
       "      <td>0.092630</td>\n",
       "      <td>0.130400</td>\n",
       "      <td>0.34540</td>\n",
       "    </tr>\n",
       "    <tr>\n",
       "      <th>mean concavity</th>\n",
       "      <td>569.0</td>\n",
       "      <td>0.088799</td>\n",
       "      <td>0.079720</td>\n",
       "      <td>0.000000</td>\n",
       "      <td>0.029560</td>\n",
       "      <td>0.061540</td>\n",
       "      <td>0.130700</td>\n",
       "      <td>0.42680</td>\n",
       "    </tr>\n",
       "    <tr>\n",
       "      <th>mean concave points</th>\n",
       "      <td>569.0</td>\n",
       "      <td>0.048919</td>\n",
       "      <td>0.038803</td>\n",
       "      <td>0.000000</td>\n",
       "      <td>0.020310</td>\n",
       "      <td>0.033500</td>\n",
       "      <td>0.074000</td>\n",
       "      <td>0.20120</td>\n",
       "    </tr>\n",
       "    <tr>\n",
       "      <th>mean symmetry</th>\n",
       "      <td>569.0</td>\n",
       "      <td>0.181162</td>\n",
       "      <td>0.027414</td>\n",
       "      <td>0.106000</td>\n",
       "      <td>0.161900</td>\n",
       "      <td>0.179200</td>\n",
       "      <td>0.195700</td>\n",
       "      <td>0.30400</td>\n",
       "    </tr>\n",
       "    <tr>\n",
       "      <th>mean fractal dimension</th>\n",
       "      <td>569.0</td>\n",
       "      <td>0.062798</td>\n",
       "      <td>0.007060</td>\n",
       "      <td>0.049960</td>\n",
       "      <td>0.057700</td>\n",
       "      <td>0.061540</td>\n",
       "      <td>0.066120</td>\n",
       "      <td>0.09744</td>\n",
       "    </tr>\n",
       "    <tr>\n",
       "      <th>radius error</th>\n",
       "      <td>569.0</td>\n",
       "      <td>0.405172</td>\n",
       "      <td>0.277313</td>\n",
       "      <td>0.111500</td>\n",
       "      <td>0.232400</td>\n",
       "      <td>0.324200</td>\n",
       "      <td>0.478900</td>\n",
       "      <td>2.87300</td>\n",
       "    </tr>\n",
       "    <tr>\n",
       "      <th>texture error</th>\n",
       "      <td>569.0</td>\n",
       "      <td>1.216853</td>\n",
       "      <td>0.551648</td>\n",
       "      <td>0.360200</td>\n",
       "      <td>0.833900</td>\n",
       "      <td>1.108000</td>\n",
       "      <td>1.474000</td>\n",
       "      <td>4.88500</td>\n",
       "    </tr>\n",
       "    <tr>\n",
       "      <th>perimeter error</th>\n",
       "      <td>569.0</td>\n",
       "      <td>2.866059</td>\n",
       "      <td>2.021855</td>\n",
       "      <td>0.757000</td>\n",
       "      <td>1.606000</td>\n",
       "      <td>2.287000</td>\n",
       "      <td>3.357000</td>\n",
       "      <td>21.98000</td>\n",
       "    </tr>\n",
       "    <tr>\n",
       "      <th>area error</th>\n",
       "      <td>569.0</td>\n",
       "      <td>40.337079</td>\n",
       "      <td>45.491006</td>\n",
       "      <td>6.802000</td>\n",
       "      <td>17.850000</td>\n",
       "      <td>24.530000</td>\n",
       "      <td>45.190000</td>\n",
       "      <td>542.20000</td>\n",
       "    </tr>\n",
       "    <tr>\n",
       "      <th>smoothness error</th>\n",
       "      <td>569.0</td>\n",
       "      <td>0.007041</td>\n",
       "      <td>0.003003</td>\n",
       "      <td>0.001713</td>\n",
       "      <td>0.005169</td>\n",
       "      <td>0.006380</td>\n",
       "      <td>0.008146</td>\n",
       "      <td>0.03113</td>\n",
       "    </tr>\n",
       "    <tr>\n",
       "      <th>compactness error</th>\n",
       "      <td>569.0</td>\n",
       "      <td>0.025478</td>\n",
       "      <td>0.017908</td>\n",
       "      <td>0.002252</td>\n",
       "      <td>0.013080</td>\n",
       "      <td>0.020450</td>\n",
       "      <td>0.032450</td>\n",
       "      <td>0.13540</td>\n",
       "    </tr>\n",
       "    <tr>\n",
       "      <th>concavity error</th>\n",
       "      <td>569.0</td>\n",
       "      <td>0.031894</td>\n",
       "      <td>0.030186</td>\n",
       "      <td>0.000000</td>\n",
       "      <td>0.015090</td>\n",
       "      <td>0.025890</td>\n",
       "      <td>0.042050</td>\n",
       "      <td>0.39600</td>\n",
       "    </tr>\n",
       "    <tr>\n",
       "      <th>concave points error</th>\n",
       "      <td>569.0</td>\n",
       "      <td>0.011796</td>\n",
       "      <td>0.006170</td>\n",
       "      <td>0.000000</td>\n",
       "      <td>0.007638</td>\n",
       "      <td>0.010930</td>\n",
       "      <td>0.014710</td>\n",
       "      <td>0.05279</td>\n",
       "    </tr>\n",
       "    <tr>\n",
       "      <th>symmetry error</th>\n",
       "      <td>569.0</td>\n",
       "      <td>0.020542</td>\n",
       "      <td>0.008266</td>\n",
       "      <td>0.007882</td>\n",
       "      <td>0.015160</td>\n",
       "      <td>0.018730</td>\n",
       "      <td>0.023480</td>\n",
       "      <td>0.07895</td>\n",
       "    </tr>\n",
       "    <tr>\n",
       "      <th>fractal dimension error</th>\n",
       "      <td>569.0</td>\n",
       "      <td>0.003795</td>\n",
       "      <td>0.002646</td>\n",
       "      <td>0.000895</td>\n",
       "      <td>0.002248</td>\n",
       "      <td>0.003187</td>\n",
       "      <td>0.004558</td>\n",
       "      <td>0.02984</td>\n",
       "    </tr>\n",
       "    <tr>\n",
       "      <th>worst radius</th>\n",
       "      <td>569.0</td>\n",
       "      <td>16.269190</td>\n",
       "      <td>4.833242</td>\n",
       "      <td>7.930000</td>\n",
       "      <td>13.010000</td>\n",
       "      <td>14.970000</td>\n",
       "      <td>18.790000</td>\n",
       "      <td>36.04000</td>\n",
       "    </tr>\n",
       "    <tr>\n",
       "      <th>worst texture</th>\n",
       "      <td>569.0</td>\n",
       "      <td>25.677223</td>\n",
       "      <td>6.146258</td>\n",
       "      <td>12.020000</td>\n",
       "      <td>21.080000</td>\n",
       "      <td>25.410000</td>\n",
       "      <td>29.720000</td>\n",
       "      <td>49.54000</td>\n",
       "    </tr>\n",
       "    <tr>\n",
       "      <th>worst perimeter</th>\n",
       "      <td>569.0</td>\n",
       "      <td>107.261213</td>\n",
       "      <td>33.602542</td>\n",
       "      <td>50.410000</td>\n",
       "      <td>84.110000</td>\n",
       "      <td>97.660000</td>\n",
       "      <td>125.400000</td>\n",
       "      <td>251.20000</td>\n",
       "    </tr>\n",
       "    <tr>\n",
       "      <th>worst area</th>\n",
       "      <td>569.0</td>\n",
       "      <td>880.583128</td>\n",
       "      <td>569.356993</td>\n",
       "      <td>185.200000</td>\n",
       "      <td>515.300000</td>\n",
       "      <td>686.500000</td>\n",
       "      <td>1084.000000</td>\n",
       "      <td>4254.00000</td>\n",
       "    </tr>\n",
       "    <tr>\n",
       "      <th>worst smoothness</th>\n",
       "      <td>569.0</td>\n",
       "      <td>0.132369</td>\n",
       "      <td>0.022832</td>\n",
       "      <td>0.071170</td>\n",
       "      <td>0.116600</td>\n",
       "      <td>0.131300</td>\n",
       "      <td>0.146000</td>\n",
       "      <td>0.22260</td>\n",
       "    </tr>\n",
       "    <tr>\n",
       "      <th>worst compactness</th>\n",
       "      <td>569.0</td>\n",
       "      <td>0.254265</td>\n",
       "      <td>0.157336</td>\n",
       "      <td>0.027290</td>\n",
       "      <td>0.147200</td>\n",
       "      <td>0.211900</td>\n",
       "      <td>0.339100</td>\n",
       "      <td>1.05800</td>\n",
       "    </tr>\n",
       "    <tr>\n",
       "      <th>worst concavity</th>\n",
       "      <td>569.0</td>\n",
       "      <td>0.272188</td>\n",
       "      <td>0.208624</td>\n",
       "      <td>0.000000</td>\n",
       "      <td>0.114500</td>\n",
       "      <td>0.226700</td>\n",
       "      <td>0.382900</td>\n",
       "      <td>1.25200</td>\n",
       "    </tr>\n",
       "    <tr>\n",
       "      <th>worst concave points</th>\n",
       "      <td>569.0</td>\n",
       "      <td>0.114606</td>\n",
       "      <td>0.065732</td>\n",
       "      <td>0.000000</td>\n",
       "      <td>0.064930</td>\n",
       "      <td>0.099930</td>\n",
       "      <td>0.161400</td>\n",
       "      <td>0.29100</td>\n",
       "    </tr>\n",
       "    <tr>\n",
       "      <th>worst symmetry</th>\n",
       "      <td>569.0</td>\n",
       "      <td>0.290076</td>\n",
       "      <td>0.061867</td>\n",
       "      <td>0.156500</td>\n",
       "      <td>0.250400</td>\n",
       "      <td>0.282200</td>\n",
       "      <td>0.317900</td>\n",
       "      <td>0.66380</td>\n",
       "    </tr>\n",
       "    <tr>\n",
       "      <th>worst fractal dimension</th>\n",
       "      <td>569.0</td>\n",
       "      <td>0.083946</td>\n",
       "      <td>0.018061</td>\n",
       "      <td>0.055040</td>\n",
       "      <td>0.071460</td>\n",
       "      <td>0.080040</td>\n",
       "      <td>0.092080</td>\n",
       "      <td>0.20750</td>\n",
       "    </tr>\n",
       "  </tbody>\n",
       "</table>\n",
       "</div>"
      ],
      "text/plain": [
       "                         count        mean         std         min  \\\n",
       "mean radius              569.0   14.127292    3.524049    6.981000   \n",
       "mean texture             569.0   19.289649    4.301036    9.710000   \n",
       "mean perimeter           569.0   91.969033   24.298981   43.790000   \n",
       "mean area                569.0  654.889104  351.914129  143.500000   \n",
       "mean smoothness          569.0    0.096360    0.014064    0.052630   \n",
       "mean compactness         569.0    0.104341    0.052813    0.019380   \n",
       "mean concavity           569.0    0.088799    0.079720    0.000000   \n",
       "mean concave points      569.0    0.048919    0.038803    0.000000   \n",
       "mean symmetry            569.0    0.181162    0.027414    0.106000   \n",
       "mean fractal dimension   569.0    0.062798    0.007060    0.049960   \n",
       "radius error             569.0    0.405172    0.277313    0.111500   \n",
       "texture error            569.0    1.216853    0.551648    0.360200   \n",
       "perimeter error          569.0    2.866059    2.021855    0.757000   \n",
       "area error               569.0   40.337079   45.491006    6.802000   \n",
       "smoothness error         569.0    0.007041    0.003003    0.001713   \n",
       "compactness error        569.0    0.025478    0.017908    0.002252   \n",
       "concavity error          569.0    0.031894    0.030186    0.000000   \n",
       "concave points error     569.0    0.011796    0.006170    0.000000   \n",
       "symmetry error           569.0    0.020542    0.008266    0.007882   \n",
       "fractal dimension error  569.0    0.003795    0.002646    0.000895   \n",
       "worst radius             569.0   16.269190    4.833242    7.930000   \n",
       "worst texture            569.0   25.677223    6.146258   12.020000   \n",
       "worst perimeter          569.0  107.261213   33.602542   50.410000   \n",
       "worst area               569.0  880.583128  569.356993  185.200000   \n",
       "worst smoothness         569.0    0.132369    0.022832    0.071170   \n",
       "worst compactness        569.0    0.254265    0.157336    0.027290   \n",
       "worst concavity          569.0    0.272188    0.208624    0.000000   \n",
       "worst concave points     569.0    0.114606    0.065732    0.000000   \n",
       "worst symmetry           569.0    0.290076    0.061867    0.156500   \n",
       "worst fractal dimension  569.0    0.083946    0.018061    0.055040   \n",
       "\n",
       "                                25%         50%          75%         max  \n",
       "mean radius               11.700000   13.370000    15.780000    28.11000  \n",
       "mean texture              16.170000   18.840000    21.800000    39.28000  \n",
       "mean perimeter            75.170000   86.240000   104.100000   188.50000  \n",
       "mean area                420.300000  551.100000   782.700000  2501.00000  \n",
       "mean smoothness            0.086370    0.095870     0.105300     0.16340  \n",
       "mean compactness           0.064920    0.092630     0.130400     0.34540  \n",
       "mean concavity             0.029560    0.061540     0.130700     0.42680  \n",
       "mean concave points        0.020310    0.033500     0.074000     0.20120  \n",
       "mean symmetry              0.161900    0.179200     0.195700     0.30400  \n",
       "mean fractal dimension     0.057700    0.061540     0.066120     0.09744  \n",
       "radius error               0.232400    0.324200     0.478900     2.87300  \n",
       "texture error              0.833900    1.108000     1.474000     4.88500  \n",
       "perimeter error            1.606000    2.287000     3.357000    21.98000  \n",
       "area error                17.850000   24.530000    45.190000   542.20000  \n",
       "smoothness error           0.005169    0.006380     0.008146     0.03113  \n",
       "compactness error          0.013080    0.020450     0.032450     0.13540  \n",
       "concavity error            0.015090    0.025890     0.042050     0.39600  \n",
       "concave points error       0.007638    0.010930     0.014710     0.05279  \n",
       "symmetry error             0.015160    0.018730     0.023480     0.07895  \n",
       "fractal dimension error    0.002248    0.003187     0.004558     0.02984  \n",
       "worst radius              13.010000   14.970000    18.790000    36.04000  \n",
       "worst texture             21.080000   25.410000    29.720000    49.54000  \n",
       "worst perimeter           84.110000   97.660000   125.400000   251.20000  \n",
       "worst area               515.300000  686.500000  1084.000000  4254.00000  \n",
       "worst smoothness           0.116600    0.131300     0.146000     0.22260  \n",
       "worst compactness          0.147200    0.211900     0.339100     1.05800  \n",
       "worst concavity            0.114500    0.226700     0.382900     1.25200  \n",
       "worst concave points       0.064930    0.099930     0.161400     0.29100  \n",
       "worst symmetry             0.250400    0.282200     0.317900     0.66380  \n",
       "worst fractal dimension    0.071460    0.080040     0.092080     0.20750  "
      ]
     },
     "execution_count": 418,
     "metadata": {},
     "output_type": "execute_result"
    }
   ],
   "source": [
    "data_df.describe().transpose()"
   ]
  },
  {
   "cell_type": "code",
   "execution_count": 419,
   "metadata": {},
   "outputs": [],
   "source": [
    "# data_df.corr()\n",
    "# sns.heatmap(data_df.corr(), annot = True)"
   ]
  },
  {
   "cell_type": "code",
   "execution_count": 421,
   "metadata": {},
   "outputs": [
    {
     "name": "stdout",
     "output_type": "stream",
     "text": [
      "The number of training samples: 455\n",
      "The number of testing samples: 114\n"
     ]
    }
   ],
   "source": [
    "x_train, x_test, y_train, y_test = train_test_split(x, y, test_size =.2, shuffle = True, random_state =42)\n",
    "\n",
    "print('The number of training samples: {}\\nThe number of testing samples: {}'.format(x_train.shape[0], x_test.shape[0]))"
   ]
  },
  {
   "cell_type": "code",
   "execution_count": 425,
   "metadata": {},
   "outputs": [],
   "source": [
    "from sklearn.preprocessing import MinMaxScaler\n",
    "scaler = MinMaxScaler()\n",
    "\n",
    "x_train_scaled = scaler.fit_transform(x_train)\n",
    "x_test_scaled = scaler.fit_transform(x_test)"
   ]
  },
  {
   "cell_type": "code",
   "execution_count": 461,
   "metadata": {},
   "outputs": [
    {
     "name": "stdout",
     "output_type": "stream",
     "text": [
      "Epoch 1/60\n",
      "13/13 [==============================] - 2s 28ms/step - loss: 0.7076 - accuracy: 0.3653 - val_loss: 0.7037 - val_accuracy: 0.3478\n",
      "Epoch 2/60\n",
      "13/13 [==============================] - 0s 8ms/step - loss: 0.6980 - accuracy: 0.3834 - val_loss: 0.6953 - val_accuracy: 0.3333\n",
      "Epoch 3/60\n",
      "13/13 [==============================] - 0s 7ms/step - loss: 0.6894 - accuracy: 0.4663 - val_loss: 0.6870 - val_accuracy: 0.5797\n",
      "Epoch 4/60\n",
      "13/13 [==============================] - 0s 8ms/step - loss: 0.6816 - accuracy: 0.6580 - val_loss: 0.6806 - val_accuracy: 0.7391\n",
      "Epoch 5/60\n",
      "13/13 [==============================] - 0s 8ms/step - loss: 0.6752 - accuracy: 0.7306 - val_loss: 0.6750 - val_accuracy: 0.7536\n",
      "Epoch 6/60\n",
      "13/13 [==============================] - 0s 8ms/step - loss: 0.6696 - accuracy: 0.7876 - val_loss: 0.6689 - val_accuracy: 0.7246\n",
      "Epoch 7/60\n",
      "13/13 [==============================] - 0s 9ms/step - loss: 0.6638 - accuracy: 0.8083 - val_loss: 0.6640 - val_accuracy: 0.7826\n",
      "Epoch 8/60\n",
      "13/13 [==============================] - 0s 10ms/step - loss: 0.6588 - accuracy: 0.8031 - val_loss: 0.6590 - val_accuracy: 0.8116\n",
      "Epoch 9/60\n",
      "13/13 [==============================] - 0s 10ms/step - loss: 0.6537 - accuracy: 0.8212 - val_loss: 0.6538 - val_accuracy: 0.7971\n",
      "Epoch 10/60\n",
      "13/13 [==============================] - 0s 9ms/step - loss: 0.6488 - accuracy: 0.8135 - val_loss: 0.6488 - val_accuracy: 0.7826\n",
      "Epoch 11/60\n",
      "13/13 [==============================] - 0s 9ms/step - loss: 0.6440 - accuracy: 0.8057 - val_loss: 0.6440 - val_accuracy: 0.8116\n",
      "Epoch 12/60\n",
      "13/13 [==============================] - 0s 8ms/step - loss: 0.6392 - accuracy: 0.8161 - val_loss: 0.6391 - val_accuracy: 0.8116\n",
      "Epoch 13/60\n",
      "13/13 [==============================] - 0s 8ms/step - loss: 0.6343 - accuracy: 0.8187 - val_loss: 0.6344 - val_accuracy: 0.8116\n",
      "Epoch 14/60\n",
      "13/13 [==============================] - 0s 9ms/step - loss: 0.6296 - accuracy: 0.8290 - val_loss: 0.6298 - val_accuracy: 0.7971\n",
      "Epoch 15/60\n",
      "13/13 [==============================] - 0s 11ms/step - loss: 0.6251 - accuracy: 0.8238 - val_loss: 0.6251 - val_accuracy: 0.7971\n",
      "Epoch 16/60\n",
      "13/13 [==============================] - 0s 8ms/step - loss: 0.6203 - accuracy: 0.8212 - val_loss: 0.6207 - val_accuracy: 0.7971\n",
      "Epoch 17/60\n",
      "13/13 [==============================] - 0s 7ms/step - loss: 0.6157 - accuracy: 0.8238 - val_loss: 0.6164 - val_accuracy: 0.7826\n",
      "Epoch 18/60\n",
      "13/13 [==============================] - 0s 6ms/step - loss: 0.6112 - accuracy: 0.8057 - val_loss: 0.6119 - val_accuracy: 0.7826\n",
      "Epoch 19/60\n",
      "13/13 [==============================] - 0s 6ms/step - loss: 0.6066 - accuracy: 0.8187 - val_loss: 0.6074 - val_accuracy: 0.8116\n",
      "Epoch 20/60\n",
      "13/13 [==============================] - 0s 7ms/step - loss: 0.6018 - accuracy: 0.8290 - val_loss: 0.6029 - val_accuracy: 0.8116\n",
      "Epoch 21/60\n",
      "13/13 [==============================] - 0s 8ms/step - loss: 0.5973 - accuracy: 0.8342 - val_loss: 0.5982 - val_accuracy: 0.8116\n",
      "Epoch 22/60\n",
      "13/13 [==============================] - 0s 6ms/step - loss: 0.5923 - accuracy: 0.8394 - val_loss: 0.5936 - val_accuracy: 0.8116\n",
      "Epoch 23/60\n",
      "13/13 [==============================] - 0s 6ms/step - loss: 0.5876 - accuracy: 0.8316 - val_loss: 0.5887 - val_accuracy: 0.8116\n",
      "Epoch 24/60\n",
      "13/13 [==============================] - 0s 9ms/step - loss: 0.5827 - accuracy: 0.8420 - val_loss: 0.5836 - val_accuracy: 0.8551\n",
      "Epoch 25/60\n",
      "13/13 [==============================] - 0s 8ms/step - loss: 0.5775 - accuracy: 0.8653 - val_loss: 0.5788 - val_accuracy: 0.8551\n",
      "Epoch 26/60\n",
      "13/13 [==============================] - 0s 7ms/step - loss: 0.5725 - accuracy: 0.8653 - val_loss: 0.5735 - val_accuracy: 0.8551\n",
      "Epoch 27/60\n",
      "13/13 [==============================] - 0s 7ms/step - loss: 0.5673 - accuracy: 0.8705 - val_loss: 0.5682 - val_accuracy: 0.8696\n",
      "Epoch 28/60\n",
      "13/13 [==============================] - 0s 7ms/step - loss: 0.5621 - accuracy: 0.8860 - val_loss: 0.5632 - val_accuracy: 0.8551\n",
      "Epoch 29/60\n",
      "13/13 [==============================] - 0s 6ms/step - loss: 0.5571 - accuracy: 0.8808 - val_loss: 0.5580 - val_accuracy: 0.8551\n",
      "Epoch 30/60\n",
      "13/13 [==============================] - 0s 7ms/step - loss: 0.5518 - accuracy: 0.8705 - val_loss: 0.5527 - val_accuracy: 0.8551\n",
      "Epoch 31/60\n",
      "13/13 [==============================] - 0s 7ms/step - loss: 0.5463 - accuracy: 0.8756 - val_loss: 0.5473 - val_accuracy: 0.8551\n",
      "Epoch 32/60\n",
      "13/13 [==============================] - 0s 8ms/step - loss: 0.5410 - accuracy: 0.8756 - val_loss: 0.5412 - val_accuracy: 0.8696\n",
      "Epoch 33/60\n",
      "13/13 [==============================] - 0s 6ms/step - loss: 0.5349 - accuracy: 0.8860 - val_loss: 0.5359 - val_accuracy: 0.8696\n",
      "Epoch 34/60\n",
      "13/13 [==============================] - 0s 6ms/step - loss: 0.5295 - accuracy: 0.9016 - val_loss: 0.5299 - val_accuracy: 0.8841\n",
      "Epoch 35/60\n",
      "13/13 [==============================] - 0s 7ms/step - loss: 0.5238 - accuracy: 0.8964 - val_loss: 0.5238 - val_accuracy: 0.8841\n",
      "Epoch 36/60\n",
      "13/13 [==============================] - 0s 6ms/step - loss: 0.5178 - accuracy: 0.9067 - val_loss: 0.5175 - val_accuracy: 0.8986\n",
      "Epoch 37/60\n",
      "13/13 [==============================] - 0s 7ms/step - loss: 0.5115 - accuracy: 0.9067 - val_loss: 0.5112 - val_accuracy: 0.8986\n",
      "Epoch 38/60\n",
      "13/13 [==============================] - 0s 6ms/step - loss: 0.5058 - accuracy: 0.9171 - val_loss: 0.5050 - val_accuracy: 0.8986\n",
      "Epoch 39/60\n",
      "13/13 [==============================] - 0s 7ms/step - loss: 0.4993 - accuracy: 0.9119 - val_loss: 0.4992 - val_accuracy: 0.8986\n",
      "Epoch 40/60\n",
      "13/13 [==============================] - 0s 6ms/step - loss: 0.4934 - accuracy: 0.9093 - val_loss: 0.4934 - val_accuracy: 0.8986\n",
      "Epoch 41/60\n",
      "13/13 [==============================] - 0s 6ms/step - loss: 0.4877 - accuracy: 0.9145 - val_loss: 0.4872 - val_accuracy: 0.8986\n",
      "Epoch 42/60\n",
      "13/13 [==============================] - 0s 6ms/step - loss: 0.4814 - accuracy: 0.9171 - val_loss: 0.4809 - val_accuracy: 0.8986\n",
      "Epoch 43/60\n",
      "13/13 [==============================] - 0s 7ms/step - loss: 0.4752 - accuracy: 0.9197 - val_loss: 0.4745 - val_accuracy: 0.8986\n",
      "Epoch 44/60\n",
      "13/13 [==============================] - 0s 7ms/step - loss: 0.4688 - accuracy: 0.9223 - val_loss: 0.4687 - val_accuracy: 0.8986\n",
      "Epoch 45/60\n",
      "13/13 [==============================] - 0s 6ms/step - loss: 0.4628 - accuracy: 0.9145 - val_loss: 0.4626 - val_accuracy: 0.8986\n",
      "Epoch 46/60\n",
      "13/13 [==============================] - 0s 7ms/step - loss: 0.4569 - accuracy: 0.9223 - val_loss: 0.4562 - val_accuracy: 0.8841\n",
      "Epoch 47/60\n",
      "13/13 [==============================] - 0s 7ms/step - loss: 0.4505 - accuracy: 0.9275 - val_loss: 0.4502 - val_accuracy: 0.8841\n",
      "Epoch 48/60\n",
      "13/13 [==============================] - 0s 6ms/step - loss: 0.4446 - accuracy: 0.9249 - val_loss: 0.4441 - val_accuracy: 0.8986\n",
      "Epoch 49/60\n",
      "13/13 [==============================] - 0s 6ms/step - loss: 0.4383 - accuracy: 0.9223 - val_loss: 0.4375 - val_accuracy: 0.8841\n",
      "Epoch 50/60\n",
      "13/13 [==============================] - 0s 7ms/step - loss: 0.4321 - accuracy: 0.9249 - val_loss: 0.4312 - val_accuracy: 0.8841\n",
      "Epoch 51/60\n",
      "13/13 [==============================] - 0s 6ms/step - loss: 0.4257 - accuracy: 0.9249 - val_loss: 0.4246 - val_accuracy: 0.8986\n",
      "Epoch 52/60\n",
      "13/13 [==============================] - 0s 6ms/step - loss: 0.4197 - accuracy: 0.9275 - val_loss: 0.4189 - val_accuracy: 0.8841\n",
      "Epoch 53/60\n",
      "13/13 [==============================] - 0s 7ms/step - loss: 0.4137 - accuracy: 0.9249 - val_loss: 0.4123 - val_accuracy: 0.8986\n",
      "Epoch 54/60\n",
      "13/13 [==============================] - 0s 8ms/step - loss: 0.4076 - accuracy: 0.9301 - val_loss: 0.4068 - val_accuracy: 0.9275\n",
      "Epoch 55/60\n",
      "13/13 [==============================] - 0s 7ms/step - loss: 0.4026 - accuracy: 0.9326 - val_loss: 0.4004 - val_accuracy: 0.8986\n",
      "Epoch 56/60\n",
      "13/13 [==============================] - 0s 8ms/step - loss: 0.3962 - accuracy: 0.9378 - val_loss: 0.3947 - val_accuracy: 0.8986\n",
      "Epoch 57/60\n",
      "13/13 [==============================] - 0s 6ms/step - loss: 0.3901 - accuracy: 0.9301 - val_loss: 0.3885 - val_accuracy: 0.8986\n",
      "Epoch 58/60\n",
      "13/13 [==============================] - 0s 7ms/step - loss: 0.3842 - accuracy: 0.9352 - val_loss: 0.3841 - val_accuracy: 0.8841\n",
      "Epoch 59/60\n",
      "13/13 [==============================] - 0s 6ms/step - loss: 0.3790 - accuracy: 0.9301 - val_loss: 0.3778 - val_accuracy: 0.8841\n",
      "Epoch 60/60\n",
      "13/13 [==============================] - 0s 7ms/step - loss: 0.3732 - accuracy: 0.9352 - val_loss: 0.3731 - val_accuracy: 0.8986\n"
     ]
    }
   ],
   "source": [
    "# Creating a model \n",
    "\n",
    "# Getting the input shape\n",
    "\n",
    "input_shape = x_train_scaled.shape[1:]\n",
    "input_shape\n",
    "\n",
    "model1 = tf.keras.models.Sequential([ \n",
    "    tf.keras.layers.Dense(30, input_shape=input_shape, activation='relu'),\n",
    "    tf.keras.layers.Dense(15, activation='relu'),\n",
    "    tf.keras.layers.Dense(1, activation='sigmoid')\n",
    "\n",
    "])\n",
    "\n",
    "model1.compile(optimizer ='sgd',\n",
    "                loss = 'binary_crossentropy',\n",
    "                metrics =['accuracy'])\n",
    "\n",
    "\n",
    "history = model1.fit(x_train_scaled, y_train, epochs =60, validation_split=.15)"
   ]
  },
  {
   "cell_type": "code",
   "execution_count": 462,
   "metadata": {},
   "outputs": [
    {
     "data": {
      "text/plain": [
       "<AxesSubplot:>"
      ]
     },
     "execution_count": 462,
     "metadata": {},
     "output_type": "execute_result"
    },
    {
     "data": {
      "image/png": "[encoded data removed]",
      "text/plain": [
       "<Figure size 720x360 with 1 Axes>"
      ]
     },
     "metadata": {
      "needs_background": "light"
     },
     "output_type": "display_data"
    }
   ],
   "source": [
    "loss_acc_metrics_df = pd.DataFrame(history.history)\n",
    "loss_acc_metrics_df.plot(figsize=(10,5))"
   ]
  },
  {
   "cell_type": "code",
   "execution_count": 463,
   "metadata": {},
   "outputs": [
    {
     "name": "stdout",
     "output_type": "stream",
     "text": [
      "4/4 [==============================] - 0s 3ms/step - loss: 0.3465 - accuracy: 0.9737\n"
     ]
    },
    {
     "data": {
      "text/plain": [
       "[0.34647130966186523, 0.9736841917037964]"
      ]
     },
     "execution_count": 463,
     "metadata": {},
     "output_type": "execute_result"
    }
   ],
   "source": [
    "model1.evaluate(x_test_scaled, y_test)"
   ]
  },
  {
   "cell_type": "code",
   "execution_count": 464,
   "metadata": {},
   "outputs": [
    {
     "name": "stdout",
     "output_type": "stream",
     "text": [
      "4/4 [==============================] - 0s 4ms/step - loss: 0.3465 - accuracy: 0.9737\n",
      "Test loss: 0.34647130966186523\n",
      "Test accuracy:97%\n"
     ]
    }
   ],
   "source": [
    "model_eval =model1.evaluate(x_test_scaled, y_test)\n",
    "print('Test loss: {}\\nTest accuracy:{}%'.format(model_eval[0],round(model_eval[1]*100),2))"
   ]
  },
  {
   "cell_type": "code",
   "execution_count": 465,
   "metadata": {},
   "outputs": [
    {
     "data": {
      "text/plain": [
       "array([[0.5986889 ],\n",
       "       [0.1479879 ],\n",
       "       [0.3257308 ],\n",
       "       [0.7623395 ],\n",
       "       [0.77368927],\n",
       "       [0.03146568],\n",
       "       [0.0466724 ],\n",
       "       [0.27630478],\n",
       "       [0.54967844],\n",
       "       [0.59622663],\n",
       "       [0.6552362 ],\n",
       "       [0.23967502],\n",
       "       [0.603302  ],\n",
       "       [0.42074096],\n",
       "       [0.7191799 ]], dtype=float32)"
      ]
     },
     "execution_count": 465,
     "metadata": {},
     "output_type": "execute_result"
    }
   ],
   "source": [
    "predictions = model1.predict(x_test_scaled)\n",
    "\n",
    "predictions[:15]"
   ]
  },
  {
   "cell_type": "code",
   "execution_count": 466,
   "metadata": {},
   "outputs": [
    {
     "data": {
      "text/plain": [
       "<tf.Tensor: shape=(15, 1), dtype=float32, numpy=\n",
       "array([[1.],\n",
       "       [0.],\n",
       "       [0.],\n",
       "       [1.],\n",
       "       [1.],\n",
       "       [0.],\n",
       "       [0.],\n",
       "       [0.],\n",
       "       [1.],\n",
       "       [1.],\n",
       "       [1.],\n",
       "       [0.],\n",
       "       [1.],\n",
       "       [0.],\n",
       "       [1.]], dtype=float32)>"
      ]
     },
     "execution_count": 466,
     "metadata": {},
     "output_type": "execute_result"
    }
   ],
   "source": [
    "predictions = tf.round(predictions)\n",
    "predictions[:15]"
   ]
  },
  {
   "cell_type": "code",
   "execution_count": 474,
   "metadata": {},
   "outputs": [],
   "source": [
    "# len(x_test_scaled)\n",
    "\n",
    "# results = pd.DataFrame({\n",
    "#     'X_test': x_test,\n",
    "#     'Predictions': predictions\n",
    "\n",
    "# })\n",
    "\n",
    "# results"
   ]
  },
  {
   "cell_type": "code",
   "execution_count": 473,
   "metadata": {},
   "outputs": [
    {
     "data": {
      "text/plain": [
       "array([[0.30094852, 0.37958375, 0.29206797, ..., 0.3540286 , 0.37377388,\n",
       "        0.19164702],\n",
       "       [0.65568288, 0.51387512, 0.62493149, ..., 0.62399721, 0.25425916,\n",
       "        0.04607612],\n",
       "       [0.46488294, 0.42319128, 0.45344922, ..., 0.52807813, 0.32808467,\n",
       "        0.14240485],\n",
       "       ...,\n",
       "       [0.24886233, 0.19772052, 0.23553363, ..., 0.33512382, 0.28342798,\n",
       "        0.12825867],\n",
       "       [0.39689676, 0.83795837, 0.38180252, ..., 0.28667597, 0.08363449,\n",
       "        0.12738296],\n",
       "       [0.75382422, 1.        , 0.71967739, ..., 0.57865364, 0.33608673,\n",
       "        0.15581004]])"
      ]
     },
     "execution_count": 473,
     "metadata": {},
     "output_type": "execute_result"
    }
   ],
   "source": [
    "# predictions.reshape(1,-1)\n",
    "# predictions\n",
    "\n",
    "x_test_scaled"
   ]
  },
  {
   "cell_type": "code",
   "execution_count": 480,
   "metadata": {},
   "outputs": [
    {
     "data": {
      "image/png": "[encoded data removed]",
      "text/plain": [
       "<Figure size 432x432 with 2 Axes>"
      ]
     },
     "metadata": {
      "needs_background": "light"
     },
     "output_type": "display_data"
    }
   ],
   "source": [
    "from sklearn.metrics import confusion_matrix, classification_report\n",
    "\n",
    "cm = confusion_matrix(y_test, predictions)\n",
    "\n",
    "plt.figure(figsize =(6,6))\n",
    "\n",
    "sns.heatmap(cm, square = True, annot = True,\n",
    "            fmt='d', cbar= True,\n",
    "            xticklabels=['0: Malignant', '1:Benign'],\n",
    "            yticklabels=['0: Malignant', '1:Benign'] \n",
    "            )\n",
    "\n",
    "plt.ylabel('Actual label')\n",
    "plt.xlabel('Predicted label');"
   ]
  },
  {
   "cell_type": "code",
   "execution_count": 483,
   "metadata": {},
   "outputs": [
    {
     "name": "stdout",
     "output_type": "stream",
     "text": [
      "              precision    recall  f1-score   support\n",
      "\n",
      "           0       1.00      0.93      0.96        43\n",
      "           1       0.96      1.00      0.98        71\n",
      "\n",
      "    accuracy                           0.97       114\n",
      "   macro avg       0.98      0.97      0.97       114\n",
      "weighted avg       0.97      0.97      0.97       114\n",
      "\n"
     ]
    }
   ],
   "source": [
    "print(classification_report(y_test, predictions))"
   ]
  },
  {
   "cell_type": "code",
   "execution_count": null,
   "metadata": {},
   "outputs": [],
   "source": []
  },
  {
   "cell_type": "code",
   "execution_count": 485,
   "metadata": {},
   "outputs": [],
   "source": [
    "fashion_mnist = tf.keras.datasets.fashion_mnist\n",
    "\n",
    "(fashion_train, fashion_train_label), (fashion_test, fashion_test_label) = fashion_mnist.load_data()"
   ]
  },
  {
   "cell_type": "code",
   "execution_count": 493,
   "metadata": {},
   "outputs": [
    {
     "data": {
      "text/plain": [
       "3"
      ]
     },
     "execution_count": 493,
     "metadata": {},
     "output_type": "execute_result"
    }
   ],
   "source": [
    "(fashion_train.ndim)"
   ]
  },
  {
   "cell_type": "code",
   "execution_count": 494,
   "metadata": {},
   "outputs": [],
   "source": [
    "class_names = ['T-shirt/top', 'Trouser','Pullover','Dress','Coat','Sandal','Shirt','Sneaker','Bag','Ankle boot']"
   ]
  },
  {
   "cell_type": "code",
   "execution_count": 503,
   "metadata": {},
   "outputs": [
    {
     "name": "stdout",
     "output_type": "stream",
     "text": [
      "This type of fashion is T-shirt/top,(0)\n"
     ]
    },
    {
     "data": {
      "image/png": "[encoded data removed]",
      "text/plain": [
       "<Figure size 432x288 with 1 Axes>"
      ]
     },
     "metadata": {
      "needs_background": "light"
     },
     "output_type": "display_data"
    }
   ],
   "source": [
    "index = 10\n",
    "plt.imshow(fashion_train[index])\n",
    "image_label = fashion_train_label[index]\n",
    "\n",
    "print('This type of fashion is {},({})'.format(class_names[image_label], image_label))"
   ]
  },
  {
   "cell_type": "code",
   "execution_count": 516,
   "metadata": {},
   "outputs": [
    {
     "data": {
      "image/png": "[encoded data removed]",
      "text/plain": [
       "<Figure size 432x432 with 6 Axes>"
      ]
     },
     "metadata": {
      "needs_background": "light"
     },
     "output_type": "display_data"
    }
   ],
   "source": [
    "import random\n",
    "plt.figure(figsize =(6,6))\n",
    "\n",
    "for index in range(6):\n",
    "    ax = plt.subplot(2,3, index+1)\n",
    "    random_index = random.choice(range(len(fashion_train)))\n",
    "    plt.imshow(fashion_train[random_index])\n",
    "    plt.title(class_names[fashion_train_label[random_index]])"
   ]
  },
  {
   "cell_type": "code",
   "execution_count": 521,
   "metadata": {},
   "outputs": [
    {
     "name": "stdout",
     "output_type": "stream",
     "text": [
      "The shape of the whole training dataset:(60000, 28, 28)\n",
      "The shape of the first(and other)image:(28, 28)\n"
     ]
    }
   ],
   "source": [
    "print('The shape of the whole training dataset:{}'.format(fashion_train.shape))\n",
    "print('The shape of the first(and other)image:{}'.format(fashion_train[0].shape))"
   ]
  },
  {
   "cell_type": "code",
   "execution_count": 522,
   "metadata": {},
   "outputs": [],
   "source": [
    "fashion_train = fashion_train/255\n",
    "\n",
    "fashion_test = fashion_test/255"
   ]
  },
  {
   "cell_type": "code",
   "execution_count": 528,
   "metadata": {},
   "outputs": [
    {
     "name": "stdout",
     "output_type": "stream",
     "text": [
      "Epoch 1/20\n",
      "1594/1594 [==============================] - 9s 5ms/step - loss: 0.5368 - accuracy: 0.8090 - val_loss: 0.5056 - val_accuracy: 0.8239\n",
      "Epoch 2/20\n",
      "1594/1594 [==============================] - 7s 4ms/step - loss: 0.3950 - accuracy: 0.8557 - val_loss: 0.3786 - val_accuracy: 0.8610\n",
      "Epoch 3/20\n",
      "1594/1594 [==============================] - 8s 5ms/step - loss: 0.3554 - accuracy: 0.8701 - val_loss: 0.3611 - val_accuracy: 0.8719\n",
      "Epoch 4/20\n",
      "1594/1594 [==============================] - 8s 5ms/step - loss: 0.3331 - accuracy: 0.8783 - val_loss: 0.3584 - val_accuracy: 0.8708\n",
      "Epoch 5/20\n",
      "1594/1594 [==============================] - 9s 5ms/step - loss: 0.3131 - accuracy: 0.8833 - val_loss: 0.3572 - val_accuracy: 0.8763\n",
      "Epoch 6/20\n",
      "1594/1594 [==============================] - 7s 4ms/step - loss: 0.3016 - accuracy: 0.8880 - val_loss: 0.3459 - val_accuracy: 0.8750\n",
      "Epoch 7/20\n",
      "1594/1594 [==============================] - 7s 5ms/step - loss: 0.2903 - accuracy: 0.8923 - val_loss: 0.3344 - val_accuracy: 0.8838\n",
      "Epoch 8/20\n",
      "1594/1594 [==============================] - 7s 4ms/step - loss: 0.2802 - accuracy: 0.8952 - val_loss: 0.3393 - val_accuracy: 0.8782\n",
      "Epoch 9/20\n",
      "1594/1594 [==============================] - 7s 4ms/step - loss: 0.2693 - accuracy: 0.8990 - val_loss: 0.3570 - val_accuracy: 0.8703\n",
      "Epoch 10/20\n",
      "1594/1594 [==============================] - 7s 5ms/step - loss: 0.2622 - accuracy: 0.9017 - val_loss: 0.3260 - val_accuracy: 0.8842\n",
      "Epoch 11/20\n",
      "1594/1594 [==============================] - 7s 4ms/step - loss: 0.2559 - accuracy: 0.9038 - val_loss: 0.3238 - val_accuracy: 0.8824\n",
      "Epoch 12/20\n",
      "1594/1594 [==============================] - 13s 8ms/step - loss: 0.2486 - accuracy: 0.9061 - val_loss: 0.3400 - val_accuracy: 0.8830\n",
      "Epoch 13/20\n",
      "1594/1594 [==============================] - 11s 7ms/step - loss: 0.2408 - accuracy: 0.9088 - val_loss: 0.3535 - val_accuracy: 0.8830\n",
      "Epoch 14/20\n",
      "1594/1594 [==============================] - 10s 6ms/step - loss: 0.2362 - accuracy: 0.9110 - val_loss: 0.3322 - val_accuracy: 0.8849\n",
      "Epoch 15/20\n",
      "1594/1594 [==============================] - 10s 6ms/step - loss: 0.2312 - accuracy: 0.9125 - val_loss: 0.3449 - val_accuracy: 0.8821\n",
      "Epoch 16/20\n",
      "1594/1594 [==============================] - 9s 6ms/step - loss: 0.2238 - accuracy: 0.9144 - val_loss: 0.3277 - val_accuracy: 0.8892\n",
      "Epoch 17/20\n",
      "1594/1594 [==============================] - 10s 6ms/step - loss: 0.2186 - accuracy: 0.9171 - val_loss: 0.3568 - val_accuracy: 0.8788\n",
      "Epoch 18/20\n",
      "1594/1594 [==============================] - 11s 7ms/step - loss: 0.2137 - accuracy: 0.9183 - val_loss: 0.3464 - val_accuracy: 0.8862\n",
      "Epoch 19/20\n",
      "1594/1594 [==============================] - 11s 7ms/step - loss: 0.2111 - accuracy: 0.9201 - val_loss: 0.3571 - val_accuracy: 0.8827\n",
      "Epoch 20/20\n",
      "1594/1594 [==============================] - 9s 5ms/step - loss: 0.2059 - accuracy: 0.9225 - val_loss: 0.3600 - val_accuracy: 0.8842\n"
     ]
    },
    {
     "data": {
      "text/plain": [
       "<keras.callbacks.History at 0x252db04fe80>"
      ]
     },
     "execution_count": 528,
     "metadata": {},
     "output_type": "execute_result"
    }
   ],
   "source": [
    "fashion_classifier = tf.keras.models.Sequential([ \n",
    "    tf.keras.layers.Flatten(),\n",
    "    tf.keras.layers.Dense(units = 64, activation = \"relu\"),\n",
    "    tf.keras.layers.Dense(units = 32, activation = \"relu\"),\n",
    "    tf.keras.layers.Dense(units =10, activation ='softmax')\n",
    "])\n",
    "\n",
    "fashion_classifier.compile(optimizer = \"adam\", \n",
    "                            loss='sparse_categorical_crossentropy',\n",
    "                            metrics =['accuracy']\n",
    "                \n",
    ")\n",
    "\n",
    "fashion_classifier.fit(fashion_train, fashion_train_label, epochs =20, validation_split=.15)"
   ]
  },
  {
   "cell_type": "code",
   "execution_count": 531,
   "metadata": {},
   "outputs": [
    {
     "data": {
      "text/plain": [
       "<AxesSubplot:>"
      ]
     },
     "execution_count": 531,
     "metadata": {},
     "output_type": "execute_result"
    },
    {
     "data": {
      "image/png": "[encoded data removed]",
      "text/plain": [
       "<Figure size 720x360 with 1 Axes>"
      ]
     },
     "metadata": {
      "needs_background": "light"
     },
     "output_type": "display_data"
    }
   ],
   "source": [
    "loss_acc_metrics_df = pd.DataFrame(fashion_classifier.history.history)\n",
    "loss_acc_metrics_df.plot(figsize=(10,5))"
   ]
  },
  {
   "cell_type": "code",
   "execution_count": 532,
   "metadata": {},
   "outputs": [
    {
     "name": "stdout",
     "output_type": "stream",
     "text": [
      "313/313 [==============================] - 1s 4ms/step - loss: 0.3783 - accuracy: 0.8836\n",
      "Test loss:0.37831994891166687\n",
      "Test accuracy:0.8835999965667725\n"
     ]
    }
   ],
   "source": [
    "eval = fashion_classifier.evaluate(fashion_test, fashion_test_label)\n",
    "\n",
    "print('Test loss:{}\\nTest accuracy:{}'.format(eval[0], eval[1]))"
   ]
  },
  {
   "cell_type": "code",
   "execution_count": 533,
   "metadata": {},
   "outputs": [],
   "source": [
    "def classifier():\n",
    "\n",
    "  model = tf.keras.models.Sequential([\n",
    "                                                 \n",
    "        # Flattening layer will convert array of pixels into one dimensional column array                                        \n",
    "       tf.keras.layers.Flatten(),\n",
    "       tf.keras.layers.Dense(units=64, activation='relu'),\n",
    "       tf.keras.layers.Dense(units=32, activation='relu'),\n",
    "       tf.keras.layers.Dense(units=10, activation='softmax')                           \n",
    "\n",
    "  ])\n",
    "\n",
    "# Compiling a model: Specifying a loss and optimization function\n",
    "\n",
    "  model.compile(optimizer='adam',\n",
    "                           loss='sparse_categorical_crossentropy',\n",
    "                           metrics=['accuracy']\n",
    "                           \n",
    "  )\n",
    "\n",
    "  return model"
   ]
  },
  {
   "cell_type": "code",
   "execution_count": 534,
   "metadata": {},
   "outputs": [],
   "source": [
    "from keras.callbacks import ModelCheckpoint\n",
    "\n",
    "callbacks = ModelCheckpoint('fashion_classifier.h5', save_best_only=True)"
   ]
  },
  {
   "cell_type": "code",
   "execution_count": 535,
   "metadata": {},
   "outputs": [
    {
     "name": "stdout",
     "output_type": "stream",
     "text": [
      "Epoch 1/20\n",
      "1867/1875 [============================>.] - ETA: 0s - loss: 0.5292 - accuracy: 0.8145WARNING:tensorflow:Can save best model only with val_loss available, skipping.\n",
      "1875/1875 [==============================] - 11s 5ms/step - loss: 0.5289 - accuracy: 0.8147\n",
      "Epoch 2/20\n",
      "1865/1875 [============================>.] - ETA: 0s - loss: 0.3900 - accuracy: 0.8594WARNING:tensorflow:Can save best model only with val_loss available, skipping.\n",
      "1875/1875 [==============================] - 9s 5ms/step - loss: 0.3898 - accuracy: 0.8596\n",
      "Epoch 3/20\n",
      "1872/1875 [============================>.] - ETA: 0s - loss: 0.3551 - accuracy: 0.8708WARNING:tensorflow:Can save best model only with val_loss available, skipping.\n",
      "1875/1875 [==============================] - 9s 5ms/step - loss: 0.3552 - accuracy: 0.8708\n",
      "Epoch 4/20\n",
      "1869/1875 [============================>.] - ETA: 0s - loss: 0.3315 - accuracy: 0.8792WARNING:tensorflow:Can save best model only with val_loss available, skipping.\n",
      "1875/1875 [==============================] - 9s 5ms/step - loss: 0.3315 - accuracy: 0.8792\n",
      "Epoch 5/20\n",
      "1871/1875 [============================>.] - ETA: 0s - loss: 0.3152 - accuracy: 0.8832WARNING:tensorflow:Can save best model only with val_loss available, skipping.\n",
      "1875/1875 [==============================] - 10s 5ms/step - loss: 0.3155 - accuracy: 0.8831\n",
      "Epoch 6/20\n",
      "1874/1875 [============================>.] - ETA: 0s - loss: 0.3016 - accuracy: 0.8889WARNING:tensorflow:Can save best model only with val_loss available, skipping.\n",
      "1875/1875 [==============================] - 8s 4ms/step - loss: 0.3017 - accuracy: 0.8888\n",
      "Epoch 7/20\n",
      "1868/1875 [============================>.] - ETA: 0s - loss: 0.2918 - accuracy: 0.8922WARNING:tensorflow:Can save best model only with val_loss available, skipping.\n",
      "1875/1875 [==============================] - 9s 5ms/step - loss: 0.2919 - accuracy: 0.8921\n",
      "Epoch 8/20\n",
      "1862/1875 [============================>.] - ETA: 0s - loss: 0.2795 - accuracy: 0.8968WARNING:tensorflow:Can save best model only with val_loss available, skipping.\n",
      "1875/1875 [==============================] - 9s 5ms/step - loss: 0.2795 - accuracy: 0.8968\n",
      "Epoch 9/20\n",
      "1874/1875 [============================>.] - ETA: 0s - loss: 0.2724 - accuracy: 0.8981WARNING:tensorflow:Can save best model only with val_loss available, skipping.\n",
      "1875/1875 [==============================] - 9s 5ms/step - loss: 0.2724 - accuracy: 0.8981\n",
      "Epoch 10/20\n",
      "1866/1875 [============================>.] - ETA: 0s - loss: 0.2634 - accuracy: 0.9019WARNING:tensorflow:Can save best model only with val_loss available, skipping.\n",
      "1875/1875 [==============================] - 11s 6ms/step - loss: 0.2640 - accuracy: 0.9017\n",
      "Epoch 11/20\n",
      "1873/1875 [============================>.] - ETA: 0s - loss: 0.2569 - accuracy: 0.9038WARNING:tensorflow:Can save best model only with val_loss available, skipping.\n",
      "1875/1875 [==============================] - 11s 6ms/step - loss: 0.2568 - accuracy: 0.9039\n",
      "Epoch 12/20\n",
      "1865/1875 [============================>.] - ETA: 0s - loss: 0.2498 - accuracy: 0.9070WARNING:tensorflow:Can save best model only with val_loss available, skipping.\n",
      "1875/1875 [==============================] - 10s 6ms/step - loss: 0.2499 - accuracy: 0.9068\n",
      "Epoch 13/20\n",
      "1864/1875 [============================>.] - ETA: 0s - loss: 0.2423 - accuracy: 0.9080WARNING:tensorflow:Can save best model only with val_loss available, skipping.\n",
      "1875/1875 [==============================] - 9s 5ms/step - loss: 0.2422 - accuracy: 0.9080\n",
      "Epoch 14/20\n",
      "1869/1875 [============================>.] - ETA: 0s - loss: 0.2389 - accuracy: 0.9102WARNING:tensorflow:Can save best model only with val_loss available, skipping.\n",
      "1875/1875 [==============================] - 12s 6ms/step - loss: 0.2390 - accuracy: 0.9101\n",
      "Epoch 15/20\n",
      "1865/1875 [============================>.] - ETA: 0s - loss: 0.2321 - accuracy: 0.9123WARNING:tensorflow:Can save best model only with val_loss available, skipping.\n",
      "1875/1875 [==============================] - 9s 5ms/step - loss: 0.2321 - accuracy: 0.9124\n",
      "Epoch 16/20\n",
      "1869/1875 [============================>.] - ETA: 0s - loss: 0.2285 - accuracy: 0.9144WARNING:tensorflow:Can save best model only with val_loss available, skipping.\n",
      "1875/1875 [==============================] - 11s 6ms/step - loss: 0.2283 - accuracy: 0.9144\n",
      "Epoch 17/20\n",
      "1873/1875 [============================>.] - ETA: 0s - loss: 0.2239 - accuracy: 0.9162WARNING:tensorflow:Can save best model only with val_loss available, skipping.\n",
      "1875/1875 [==============================] - 11s 6ms/step - loss: 0.2238 - accuracy: 0.9162\n",
      "Epoch 18/20\n",
      "1871/1875 [============================>.] - ETA: 0s - loss: 0.2191 - accuracy: 0.9171WARNING:tensorflow:Can save best model only with val_loss available, skipping.\n",
      "1875/1875 [==============================] - 10s 5ms/step - loss: 0.2190 - accuracy: 0.9172\n",
      "Epoch 19/20\n",
      "1872/1875 [============================>.] - ETA: 0s - loss: 0.2159 - accuracy: 0.9181WARNING:tensorflow:Can save best model only with val_loss available, skipping.\n",
      "1875/1875 [==============================] - 10s 5ms/step - loss: 0.2159 - accuracy: 0.9181\n",
      "Epoch 20/20\n",
      "1866/1875 [============================>.] - ETA: 0s - loss: 0.2092 - accuracy: 0.9217WARNING:tensorflow:Can save best model only with val_loss available, skipping.\n",
      "1875/1875 [==============================] - 8s 4ms/step - loss: 0.2093 - accuracy: 0.9218\n"
     ]
    },
    {
     "data": {
      "text/plain": [
       "<keras.callbacks.History at 0x252d5d79c30>"
      ]
     },
     "execution_count": 535,
     "metadata": {},
     "output_type": "execute_result"
    }
   ],
   "source": [
    "fashion_classifier2 = classifier()\n",
    "fashion_classifier2.fit(fashion_train, fashion_train_label, epochs = 20, callbacks=[callbacks])"
   ]
  },
  {
   "cell_type": "code",
   "execution_count": 536,
   "metadata": {},
   "outputs": [],
   "source": [
    "from keras.callbacks import EarlyStopping\n",
    "\n",
    "early_stop = EarlyStopping(monitor ='val_accuracy', patience=4, restore_best_weights = True)"
   ]
  },
  {
   "cell_type": "code",
   "execution_count": 537,
   "metadata": {},
   "outputs": [
    {
     "name": "stdout",
     "output_type": "stream",
     "text": [
      "Epoch 1/100\n",
      "1594/1594 [==============================] - 12s 5ms/step - loss: 0.5297 - accuracy: 0.8156 - val_loss: 0.4845 - val_accuracy: 0.8307\n",
      "Epoch 2/100\n",
      "1594/1594 [==============================] - 6s 4ms/step - loss: 0.3932 - accuracy: 0.8587 - val_loss: 0.3659 - val_accuracy: 0.8699\n",
      "Epoch 3/100\n",
      "1594/1594 [==============================] - 6s 4ms/step - loss: 0.3553 - accuracy: 0.8705 - val_loss: 0.3729 - val_accuracy: 0.8661\n",
      "Epoch 4/100\n",
      "1594/1594 [==============================] - 5s 3ms/step - loss: 0.3307 - accuracy: 0.8780 - val_loss: 0.3611 - val_accuracy: 0.8674\n",
      "Epoch 5/100\n",
      "1594/1594 [==============================] - 5s 3ms/step - loss: 0.3114 - accuracy: 0.8850 - val_loss: 0.3434 - val_accuracy: 0.8773\n",
      "Epoch 6/100\n",
      "1594/1594 [==============================] - 5s 3ms/step - loss: 0.3006 - accuracy: 0.8892 - val_loss: 0.3558 - val_accuracy: 0.8718\n",
      "Epoch 7/100\n",
      "1594/1594 [==============================] - 5s 3ms/step - loss: 0.2889 - accuracy: 0.8928 - val_loss: 0.3416 - val_accuracy: 0.8781\n",
      "Epoch 8/100\n",
      "1594/1594 [==============================] - 5s 3ms/step - loss: 0.2777 - accuracy: 0.8965 - val_loss: 0.3444 - val_accuracy: 0.8759\n",
      "Epoch 9/100\n",
      "1594/1594 [==============================] - 5s 3ms/step - loss: 0.2678 - accuracy: 0.9009 - val_loss: 0.3466 - val_accuracy: 0.8726\n",
      "Epoch 10/100\n",
      "1594/1594 [==============================] - 5s 3ms/step - loss: 0.2619 - accuracy: 0.9036 - val_loss: 0.3259 - val_accuracy: 0.8866\n",
      "Epoch 11/100\n",
      "1594/1594 [==============================] - 5s 3ms/step - loss: 0.2524 - accuracy: 0.9061 - val_loss: 0.3290 - val_accuracy: 0.8836\n",
      "Epoch 12/100\n",
      "1594/1594 [==============================] - 5s 3ms/step - loss: 0.2437 - accuracy: 0.9095 - val_loss: 0.3414 - val_accuracy: 0.8798\n",
      "Epoch 13/100\n",
      "1594/1594 [==============================] - 5s 3ms/step - loss: 0.2388 - accuracy: 0.9108 - val_loss: 0.3484 - val_accuracy: 0.8850\n",
      "Epoch 14/100\n",
      "1594/1594 [==============================] - 5s 3ms/step - loss: 0.2334 - accuracy: 0.9111 - val_loss: 0.3337 - val_accuracy: 0.8847\n"
     ]
    }
   ],
   "source": [
    "fashion_classifier_2 = classifier()\n",
    "\n",
    "history = fashion_classifier_2.fit(fashion_train, fashion_train_label, epochs=100, validation_split=0.15, callbacks=[early_stop])"
   ]
  },
  {
   "cell_type": "code",
   "execution_count": 547,
   "metadata": {},
   "outputs": [],
   "source": [
    "import tensorflow as tf  \n",
    "from tensorflow import keras \n",
    "from tensorflow.keras import layers"
   ]
  },
  {
   "cell_type": "code",
   "execution_count": 541,
   "metadata": {},
   "outputs": [
    {
     "data": {
      "text/plain": [
       "<keras.losses.BinaryCrossentropy at 0x252d5d7bee0>"
      ]
     },
     "execution_count": 541,
     "metadata": {},
     "output_type": "execute_result"
    }
   ],
   "source": [
    "tf.keras.losses.BinaryCrossentropy(\n",
    "    from_logits = False, \n",
    "    label_smoothing =0.0, \n",
    "    axis = -1, \n",
    "    reduction = 'auto', \n",
    "    name ='binary_crossentropy'\n",
    ")"
   ]
  },
  {
   "cell_type": "code",
   "execution_count": 542,
   "metadata": {},
   "outputs": [],
   "source": [
    "model.compile(\n",
    "    loss = tf.keras.losses.BinaryCrossentropy(from_logits=True)\n",
    ")"
   ]
  },
  {
   "cell_type": "code",
   "execution_count": 546,
   "metadata": {},
   "outputs": [
    {
     "data": {
      "text/plain": [
       "0.865458"
      ]
     },
     "execution_count": 546,
     "metadata": {},
     "output_type": "execute_result"
    }
   ],
   "source": [
    "y_true = [0, 1, 0, 0]\n",
    "y_pred = [-18.6, 0.51, 2.94, -12.8]\n",
    "bce = tf.keras.losses.BinaryCrossentropy(from_logits=True)\n",
    "bce(y_true, y_pred).numpy()"
   ]
  },
  {
   "cell_type": "code",
   "execution_count": 549,
   "metadata": {},
   "outputs": [],
   "source": [
    "model = keras.Sequential()\n",
    "model.add(layers.Dense(64, kernel_initializer= 'uniform', input_shape =(10,)))\n",
    "model.add(layers.Activation('softmax'))\n",
    "\n",
    "loss_fn = keras.losses.SparseCategoricalCrossentropy()\n",
    "model.compile(loss = loss_fn, optimizer ='adam')"
   ]
  },
  {
   "cell_type": "code",
   "execution_count": 551,
   "metadata": {},
   "outputs": [
    {
     "data": {
      "text/plain": [
       "array([1., 1.], dtype=float32)"
      ]
     },
     "execution_count": 551,
     "metadata": {},
     "output_type": "execute_result"
    }
   ],
   "source": [
    " tf.keras.losses.mean_squared_error(tf.ones((2, 2,)), tf.zeros((2, 2))).numpy()"
   ]
  },
  {
   "cell_type": "code",
   "execution_count": 555,
   "metadata": {},
   "outputs": [],
   "source": [
    "import tensorflow as tf\n",
    "from tensorflow import keras\n",
    "import numpy as np\n",
    "import matplotlib.pyplot as plt"
   ]
  },
  {
   "cell_type": "code",
   "execution_count": 556,
   "metadata": {},
   "outputs": [
    {
     "name": "stdout",
     "output_type": "stream",
     "text": [
      "TensorFlow's version used in notebook:2.8.0\n"
     ]
    }
   ],
   "source": [
    "\n",
    "print(\"TensorFlow's version used in notebook:{}\".format(tf.__version__))\n"
   ]
  },
  {
   "cell_type": "code",
   "execution_count": 554,
   "metadata": {},
   "outputs": [],
   "source": [
    " (train_data, train_label), (test_data, test_label) = keras.datasets.cifar10.load_data()"
   ]
  },
  {
   "cell_type": "code",
   "execution_count": 558,
   "metadata": {},
   "outputs": [
    {
     "data": {
      "text/plain": [
       "10000"
      ]
     },
     "execution_count": 558,
     "metadata": {},
     "output_type": "execute_result"
    }
   ],
   "source": [
    "len(train_label)\n",
    "len(test_label)"
   ]
  },
  {
   "cell_type": "code",
   "execution_count": 563,
   "metadata": {},
   "outputs": [
    {
     "ename": "AttributeError",
     "evalue": "'numpy.ndarray' object has no attribute 'info'",
     "output_type": "error",
     "traceback": [
      "\u001b[1;31m---------------------------------------------------------------------------\u001b[0m",
      "\u001b[1;31mAttributeError\u001b[0m                            Traceback (most recent call last)",
      "\u001b[1;32mc:\\Users\\Okoro Chima\\Desktop\\PYTHON PROJECTS\\Practicing my machine learning with sklearn\\neural_networks.ipynb Cell 129'\u001b[0m in \u001b[0;36m<module>\u001b[1;34m\u001b[0m\n\u001b[1;32m----> <a href='vscode-notebook-cell:/c%3A/Users/Okoro%20Chima/Desktop/PYTHON%20PROJECTS/Practicing%20my%20machine%20learning%20with%20sklearn/neural_networks.ipynb#ch0000128?line=0'>1</a>\u001b[0m train_data\u001b[39m.\u001b[39;49minfo()\n",
      "\u001b[1;31mAttributeError\u001b[0m: 'numpy.ndarray' object has no attribute 'info'"
     ]
    }
   ],
   "source": []
  },
  {
   "cell_type": "code",
   "execution_count": null,
   "metadata": {},
   "outputs": [],
   "source": []
  }
 ],
 "metadata": {
  "interpreter": {
   "hash": "71bfb51a6c7d12e96c31526a06b497ae047efee28c53c237561b4ad5b9463bce"
  },
  "kernelspec": {
   "display_name": "Python 3.10.2 64-bit",
   "language": "python",
   "name": "python3"
  },
  "language_info": {
   "codemirror_mode": {
    "name": "ipython",
    "version": 3
   },
   "file_extension": ".py",
   "mimetype": "text/x-python",
   "name": "python",
   "nbconvert_exporter": "python",
   "pygments_lexer": "ipython3",
   "version": "3.10.2"
  },
  "orig_nbformat": 4
 },
 "nbformat": 4,
 "nbformat_minor": 2
}
