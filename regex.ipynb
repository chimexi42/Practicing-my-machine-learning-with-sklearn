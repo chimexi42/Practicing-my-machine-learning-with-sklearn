{
 "cells": [
  {
   "cell_type": "code",
   "execution_count": 4,
   "metadata": {},
   "outputs": [],
   "source": [
    "# hello \n",
    "# this is a sentence \n",
    "# 1234\n",
    "# tests456\n",
    "# this is a number 5"
   ]
  },
  {
   "cell_type": "code",
   "execution_count": 16,
   "metadata": {},
   "outputs": [
    {
     "name": "stdout",
     "output_type": "stream",
     "text": [
      "Invalid Email\n",
      "\n"
     ]
    }
   ],
   "source": [
    "import re\n",
    "\n",
    "pattern = \"[a-zA-z0-9]+@[a-zA-Z]+\\.(com|edu|net|org)\"\n",
    "\n",
    "user_input = input('What is your email')\n",
    "if (re.search(pattern, user_input)):\n",
    "    print(user_input)\n",
    "    print('Valid Email')\n",
    "else:\n",
    "    print('Invalid Email')\n",
    "    print(user_input)\n",
    "    "
   ]
  },
  {
   "cell_type": "code",
   "execution_count": 17,
   "metadata": {},
   "outputs": [
    {
     "ename": "error",
     "evalue": "missing ), unterminated subpattern at position 0",
     "output_type": "error",
     "traceback": [
      "\u001b[1;31m---------------------------------------------------------------------------\u001b[0m",
      "\u001b[1;31merror\u001b[0m                                     Traceback (most recent call last)",
      "\u001b[1;32mc:\\Users\\Okoro Chima\\Desktop\\PYTHON PROJECTS\\Practicing my machine learning with sklearn\\regex.ipynb Cell 3'\u001b[0m in \u001b[0;36m<module>\u001b[1;34m\u001b[0m\n\u001b[0;32m      <a href='vscode-notebook-cell:/c%3A/Users/Okoro%20Chima/Desktop/PYTHON%20PROJECTS/Practicing%20my%20machine%20learning%20with%20sklearn/regex.ipynb#ch0000004?line=4'>5</a>\u001b[0m new_pattern \u001b[39m=\u001b[39m \u001b[39mr\u001b[39m\u001b[39m\"\u001b[39m\u001b[39m\\\u001b[39m\u001b[39m1\u001b[39m\u001b[39m\\\u001b[39m\u001b[39m2\u001b[39m\u001b[39m\\\u001b[39m\u001b[39m3\u001b[39m\u001b[39m\"\u001b[39m\n\u001b[0;32m      <a href='vscode-notebook-cell:/c%3A/Users/Okoro%20Chima/Desktop/PYTHON%20PROJECTS/Practicing%20my%20machine%20learning%20with%20sklearn/regex.ipynb#ch0000004?line=6'>7</a>\u001b[0m user_input \u001b[39m=\u001b[39m \u001b[39minput\u001b[39m()\n\u001b[1;32m----> <a href='vscode-notebook-cell:/c%3A/Users/Okoro%20Chima/Desktop/PYTHON%20PROJECTS/Practicing%20my%20machine%20learning%20with%20sklearn/regex.ipynb#ch0000004?line=7'>8</a>\u001b[0m new_user_input \u001b[39m=\u001b[39m re\u001b[39m.\u001b[39;49msub(pattern, new_pattern, user_input)\n\u001b[0;32m      <a href='vscode-notebook-cell:/c%3A/Users/Okoro%20Chima/Desktop/PYTHON%20PROJECTS/Practicing%20my%20machine%20learning%20with%20sklearn/regex.ipynb#ch0000004?line=8'>9</a>\u001b[0m \u001b[39mprint\u001b[39m(user_input)\n",
      "File \u001b[1;32m~\\AppData\\Local\\Programs\\Python\\Python310\\lib\\re.py:209\u001b[0m, in \u001b[0;36msub\u001b[1;34m(pattern, repl, string, count, flags)\u001b[0m\n\u001b[0;32m    <a href='file:///c%3A/Users/Okoro%20Chima/AppData/Local/Programs/Python/Python310/lib/re.py?line=201'>202</a>\u001b[0m \u001b[39mdef\u001b[39;00m \u001b[39msub\u001b[39m(pattern, repl, string, count\u001b[39m=\u001b[39m\u001b[39m0\u001b[39m, flags\u001b[39m=\u001b[39m\u001b[39m0\u001b[39m):\n\u001b[0;32m    <a href='file:///c%3A/Users/Okoro%20Chima/AppData/Local/Programs/Python/Python310/lib/re.py?line=202'>203</a>\u001b[0m     \u001b[39m\"\"\"Return the string obtained by replacing the leftmost\u001b[39;00m\n\u001b[0;32m    <a href='file:///c%3A/Users/Okoro%20Chima/AppData/Local/Programs/Python/Python310/lib/re.py?line=203'>204</a>\u001b[0m \u001b[39m    non-overlapping occurrences of the pattern in string by the\u001b[39;00m\n\u001b[0;32m    <a href='file:///c%3A/Users/Okoro%20Chima/AppData/Local/Programs/Python/Python310/lib/re.py?line=204'>205</a>\u001b[0m \u001b[39m    replacement repl.  repl can be either a string or a callable;\u001b[39;00m\n\u001b[0;32m    <a href='file:///c%3A/Users/Okoro%20Chima/AppData/Local/Programs/Python/Python310/lib/re.py?line=205'>206</a>\u001b[0m \u001b[39m    if a string, backslash escapes in it are processed.  If it is\u001b[39;00m\n\u001b[0;32m    <a href='file:///c%3A/Users/Okoro%20Chima/AppData/Local/Programs/Python/Python310/lib/re.py?line=206'>207</a>\u001b[0m \u001b[39m    a callable, it's passed the Match object and must return\u001b[39;00m\n\u001b[0;32m    <a href='file:///c%3A/Users/Okoro%20Chima/AppData/Local/Programs/Python/Python310/lib/re.py?line=207'>208</a>\u001b[0m \u001b[39m    a replacement string to be used.\"\"\"\u001b[39;00m\n\u001b[1;32m--> <a href='file:///c%3A/Users/Okoro%20Chima/AppData/Local/Programs/Python/Python310/lib/re.py?line=208'>209</a>\u001b[0m     \u001b[39mreturn\u001b[39;00m _compile(pattern, flags)\u001b[39m.\u001b[39msub(repl, string, count)\n",
      "File \u001b[1;32m~\\AppData\\Local\\Programs\\Python\\Python310\\lib\\re.py:303\u001b[0m, in \u001b[0;36m_compile\u001b[1;34m(pattern, flags)\u001b[0m\n\u001b[0;32m    <a href='file:///c%3A/Users/Okoro%20Chima/AppData/Local/Programs/Python/Python310/lib/re.py?line=300'>301</a>\u001b[0m \u001b[39mif\u001b[39;00m \u001b[39mnot\u001b[39;00m sre_compile\u001b[39m.\u001b[39misstring(pattern):\n\u001b[0;32m    <a href='file:///c%3A/Users/Okoro%20Chima/AppData/Local/Programs/Python/Python310/lib/re.py?line=301'>302</a>\u001b[0m     \u001b[39mraise\u001b[39;00m \u001b[39mTypeError\u001b[39;00m(\u001b[39m\"\u001b[39m\u001b[39mfirst argument must be string or compiled pattern\u001b[39m\u001b[39m\"\u001b[39m)\n\u001b[1;32m--> <a href='file:///c%3A/Users/Okoro%20Chima/AppData/Local/Programs/Python/Python310/lib/re.py?line=302'>303</a>\u001b[0m p \u001b[39m=\u001b[39m sre_compile\u001b[39m.\u001b[39;49mcompile(pattern, flags)\n\u001b[0;32m    <a href='file:///c%3A/Users/Okoro%20Chima/AppData/Local/Programs/Python/Python310/lib/re.py?line=303'>304</a>\u001b[0m \u001b[39mif\u001b[39;00m \u001b[39mnot\u001b[39;00m (flags \u001b[39m&\u001b[39m DEBUG):\n\u001b[0;32m    <a href='file:///c%3A/Users/Okoro%20Chima/AppData/Local/Programs/Python/Python310/lib/re.py?line=304'>305</a>\u001b[0m     \u001b[39mif\u001b[39;00m \u001b[39mlen\u001b[39m(_cache) \u001b[39m>\u001b[39m\u001b[39m=\u001b[39m _MAXCACHE:\n\u001b[0;32m    <a href='file:///c%3A/Users/Okoro%20Chima/AppData/Local/Programs/Python/Python310/lib/re.py?line=305'>306</a>\u001b[0m         \u001b[39m# Drop the oldest item\u001b[39;00m\n",
      "File \u001b[1;32m~\\AppData\\Local\\Programs\\Python\\Python310\\lib\\sre_compile.py:764\u001b[0m, in \u001b[0;36mcompile\u001b[1;34m(p, flags)\u001b[0m\n\u001b[0;32m    <a href='file:///c%3A/Users/Okoro%20Chima/AppData/Local/Programs/Python/Python310/lib/sre_compile.py?line=761'>762</a>\u001b[0m \u001b[39mif\u001b[39;00m isstring(p):\n\u001b[0;32m    <a href='file:///c%3A/Users/Okoro%20Chima/AppData/Local/Programs/Python/Python310/lib/sre_compile.py?line=762'>763</a>\u001b[0m     pattern \u001b[39m=\u001b[39m p\n\u001b[1;32m--> <a href='file:///c%3A/Users/Okoro%20Chima/AppData/Local/Programs/Python/Python310/lib/sre_compile.py?line=763'>764</a>\u001b[0m     p \u001b[39m=\u001b[39m sre_parse\u001b[39m.\u001b[39;49mparse(p, flags)\n\u001b[0;32m    <a href='file:///c%3A/Users/Okoro%20Chima/AppData/Local/Programs/Python/Python310/lib/sre_compile.py?line=764'>765</a>\u001b[0m \u001b[39melse\u001b[39;00m:\n\u001b[0;32m    <a href='file:///c%3A/Users/Okoro%20Chima/AppData/Local/Programs/Python/Python310/lib/sre_compile.py?line=765'>766</a>\u001b[0m     pattern \u001b[39m=\u001b[39m \u001b[39mNone\u001b[39;00m\n",
      "File \u001b[1;32m~\\AppData\\Local\\Programs\\Python\\Python310\\lib\\sre_parse.py:948\u001b[0m, in \u001b[0;36mparse\u001b[1;34m(str, flags, state)\u001b[0m\n\u001b[0;32m    <a href='file:///c%3A/Users/Okoro%20Chima/AppData/Local/Programs/Python/Python310/lib/sre_parse.py?line=944'>945</a>\u001b[0m state\u001b[39m.\u001b[39mstr \u001b[39m=\u001b[39m \u001b[39mstr\u001b[39m\n\u001b[0;32m    <a href='file:///c%3A/Users/Okoro%20Chima/AppData/Local/Programs/Python/Python310/lib/sre_parse.py?line=946'>947</a>\u001b[0m \u001b[39mtry\u001b[39;00m:\n\u001b[1;32m--> <a href='file:///c%3A/Users/Okoro%20Chima/AppData/Local/Programs/Python/Python310/lib/sre_parse.py?line=947'>948</a>\u001b[0m     p \u001b[39m=\u001b[39m _parse_sub(source, state, flags \u001b[39m&\u001b[39;49m SRE_FLAG_VERBOSE, \u001b[39m0\u001b[39;49m)\n\u001b[0;32m    <a href='file:///c%3A/Users/Okoro%20Chima/AppData/Local/Programs/Python/Python310/lib/sre_parse.py?line=948'>949</a>\u001b[0m \u001b[39mexcept\u001b[39;00m Verbose:\n\u001b[0;32m    <a href='file:///c%3A/Users/Okoro%20Chima/AppData/Local/Programs/Python/Python310/lib/sre_parse.py?line=949'>950</a>\u001b[0m     \u001b[39m# the VERBOSE flag was switched on inside the pattern.  to be\u001b[39;00m\n\u001b[0;32m    <a href='file:///c%3A/Users/Okoro%20Chima/AppData/Local/Programs/Python/Python310/lib/sre_parse.py?line=950'>951</a>\u001b[0m     \u001b[39m# on the safe side, we'll parse the whole thing again...\u001b[39;00m\n\u001b[0;32m    <a href='file:///c%3A/Users/Okoro%20Chima/AppData/Local/Programs/Python/Python310/lib/sre_parse.py?line=951'>952</a>\u001b[0m     state \u001b[39m=\u001b[39m State()\n",
      "File \u001b[1;32m~\\AppData\\Local\\Programs\\Python\\Python310\\lib\\sre_parse.py:443\u001b[0m, in \u001b[0;36m_parse_sub\u001b[1;34m(source, state, verbose, nested)\u001b[0m\n\u001b[0;32m    <a href='file:///c%3A/Users/Okoro%20Chima/AppData/Local/Programs/Python/Python310/lib/sre_parse.py?line=440'>441</a>\u001b[0m start \u001b[39m=\u001b[39m source\u001b[39m.\u001b[39mtell()\n\u001b[0;32m    <a href='file:///c%3A/Users/Okoro%20Chima/AppData/Local/Programs/Python/Python310/lib/sre_parse.py?line=441'>442</a>\u001b[0m \u001b[39mwhile\u001b[39;00m \u001b[39mTrue\u001b[39;00m:\n\u001b[1;32m--> <a href='file:///c%3A/Users/Okoro%20Chima/AppData/Local/Programs/Python/Python310/lib/sre_parse.py?line=442'>443</a>\u001b[0m     itemsappend(_parse(source, state, verbose, nested \u001b[39m+\u001b[39;49m \u001b[39m1\u001b[39;49m,\n\u001b[0;32m    <a href='file:///c%3A/Users/Okoro%20Chima/AppData/Local/Programs/Python/Python310/lib/sre_parse.py?line=443'>444</a>\u001b[0m                        \u001b[39mnot\u001b[39;49;00m nested \u001b[39mand\u001b[39;49;00m \u001b[39mnot\u001b[39;49;00m items))\n\u001b[0;32m    <a href='file:///c%3A/Users/Okoro%20Chima/AppData/Local/Programs/Python/Python310/lib/sre_parse.py?line=444'>445</a>\u001b[0m     \u001b[39mif\u001b[39;00m \u001b[39mnot\u001b[39;00m sourcematch(\u001b[39m\"\u001b[39m\u001b[39m|\u001b[39m\u001b[39m\"\u001b[39m):\n\u001b[0;32m    <a href='file:///c%3A/Users/Okoro%20Chima/AppData/Local/Programs/Python/Python310/lib/sre_parse.py?line=445'>446</a>\u001b[0m         \u001b[39mbreak\u001b[39;00m\n",
      "File \u001b[1;32m~\\AppData\\Local\\Programs\\Python\\Python310\\lib\\sre_parse.py:836\u001b[0m, in \u001b[0;36m_parse\u001b[1;34m(source, state, verbose, nested, first)\u001b[0m\n\u001b[0;32m    <a href='file:///c%3A/Users/Okoro%20Chima/AppData/Local/Programs/Python/Python310/lib/sre_parse.py?line=833'>834</a>\u001b[0m p \u001b[39m=\u001b[39m _parse_sub(source, state, sub_verbose, nested \u001b[39m+\u001b[39m \u001b[39m1\u001b[39m)\n\u001b[0;32m    <a href='file:///c%3A/Users/Okoro%20Chima/AppData/Local/Programs/Python/Python310/lib/sre_parse.py?line=834'>835</a>\u001b[0m \u001b[39mif\u001b[39;00m \u001b[39mnot\u001b[39;00m source\u001b[39m.\u001b[39mmatch(\u001b[39m\"\u001b[39m\u001b[39m)\u001b[39m\u001b[39m\"\u001b[39m):\n\u001b[1;32m--> <a href='file:///c%3A/Users/Okoro%20Chima/AppData/Local/Programs/Python/Python310/lib/sre_parse.py?line=835'>836</a>\u001b[0m     \u001b[39mraise\u001b[39;00m source\u001b[39m.\u001b[39merror(\u001b[39m\"\u001b[39m\u001b[39mmissing ), unterminated subpattern\u001b[39m\u001b[39m\"\u001b[39m,\n\u001b[0;32m    <a href='file:///c%3A/Users/Okoro%20Chima/AppData/Local/Programs/Python/Python310/lib/sre_parse.py?line=836'>837</a>\u001b[0m                        source\u001b[39m.\u001b[39mtell() \u001b[39m-\u001b[39m start)\n\u001b[0;32m    <a href='file:///c%3A/Users/Okoro%20Chima/AppData/Local/Programs/Python/Python310/lib/sre_parse.py?line=837'>838</a>\u001b[0m \u001b[39mif\u001b[39;00m group \u001b[39mis\u001b[39;00m \u001b[39mnot\u001b[39;00m \u001b[39mNone\u001b[39;00m:\n\u001b[0;32m    <a href='file:///c%3A/Users/Okoro%20Chima/AppData/Local/Programs/Python/Python310/lib/sre_parse.py?line=838'>839</a>\u001b[0m     state\u001b[39m.\u001b[39mclosegroup(group, p)\n",
      "\u001b[1;31merror\u001b[0m: missing ), unterminated subpattern at position 0"
     ]
    }
   ],
   "source": [
    "# import re\n",
    "\n",
    "# pattern = \"(\\d\\d\\d\\)-(\\d\\d\\d)-(\\d\\d\\d\\d)\"\n",
    "\n",
    "# new_pattern = r\"\\1\\2\\3\"\n",
    "\n",
    "# user_input = input()\n",
    "# new_user_input = re.sub(pattern, new_pattern, user_input)\n",
    "# print(user_input)\n"
   ]
  }
 ],
 "metadata": {
  "interpreter": {
   "hash": "71bfb51a6c7d12e96c31526a06b497ae047efee28c53c237561b4ad5b9463bce"
  },
  "kernelspec": {
   "display_name": "Python 3.10.2 64-bit",
   "language": "python",
   "name": "python3"
  },
  "language_info": {
   "codemirror_mode": {
    "name": "ipython",
    "version": 3
   },
   "file_extension": ".py",
   "mimetype": "text/x-python",
   "name": "python",
   "nbconvert_exporter": "python",
   "pygments_lexer": "ipython3",
   "version": "3.10.2"
  },
  "orig_nbformat": 4
 },
 "nbformat": 4,
 "nbformat_minor": 2
}
